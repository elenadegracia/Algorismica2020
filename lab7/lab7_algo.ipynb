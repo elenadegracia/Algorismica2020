{
 "cells": [
  {
   "cell_type": "markdown",
   "metadata": {},
   "source": [
    "# 4.1 Acrònims"
   ]
  },
  {
   "cell_type": "code",
   "execution_count": 1,
   "metadata": {},
   "outputs": [
    {
     "data": {
      "text/plain": [
       "'HQT'"
      ]
     },
     "execution_count": 1,
     "metadata": {},
     "output_type": "execute_result"
    }
   ],
   "source": [
    "def acronim(frase):\n",
    "    \n",
    "    f = \"\".join(e[0] for e in frase.split())\n",
    "    acro = f.upper()\n",
    "    return acro\n",
    "\n",
    "acronim(\"Hola que tal\")\n",
    "#complexitat O(n)"
   ]
  },
  {
   "cell_type": "code",
   "execution_count": 2,
   "metadata": {},
   "outputs": [],
   "source": [
    "assert acronim(\"Hola que tal\") == 'HQT'\n"
   ]
  },
  {
   "cell_type": "markdown",
   "metadata": {},
   "source": [
    "# 4.6 Run Length Encoding"
   ]
  },
  {
   "cell_type": "code",
   "execution_count": 3,
   "metadata": {},
   "outputs": [
    {
     "data": {
      "text/plain": [
       "('A1B4N3E3D3Z2A5', 'B17W6Z1A3')"
      ]
     },
     "execution_count": 3,
     "metadata": {},
     "output_type": "execute_result"
    }
   ],
   "source": [
    "def rle(text):\n",
    "    \n",
    "    i = 0\n",
    "    text_codificat = \"\"\n",
    "    lletra_prev = text[0]\n",
    "    cont = 0\n",
    "    \n",
    "    while i != len(text):\n",
    "        \n",
    "        lletra = text[i] \n",
    "        if lletra == lletra_prev:\n",
    "            cont += 1\n",
    "        else:\n",
    "            text_codificat += lletra_prev + str(cont)\n",
    "            cont = 1\n",
    "        lletra_prev = lletra\n",
    "        i += 1\n",
    "        \n",
    "    text_codificat += lletra_prev + str(cont)\n",
    "    return text_codificat\n",
    "\n",
    "rle('ABBBBNNNEEEDDDZZAAAAA'), rle('BBBBBBBBBBBBBBBBBWWWWWWZAAA')\n",
    "\n",
    "#complexitat algorisme O(n)\n",
    "\n"
   ]
  },
  {
   "cell_type": "code",
   "execution_count": 4,
   "metadata": {},
   "outputs": [],
   "source": [
    "assert rle('ABBBBNNNEEEDDDZZAAAAA') == 'A1B4N3E3D3Z2A5'"
   ]
  },
  {
   "cell_type": "code",
   "execution_count": 5,
   "metadata": {},
   "outputs": [],
   "source": [
    "assert rle('BBBBBBBBBBBBBBBBBWWWWWWZAAA') == 'B17W6Z1A3'\n"
   ]
  },
  {
   "cell_type": "markdown",
   "metadata": {},
   "source": [
    "# 4.7 Subcadena més llarga sense cap caràcter repetit"
   ]
  },
  {
   "cell_type": "code",
   "execution_count": 6,
   "metadata": {},
   "outputs": [
    {
     "data": {
      "text/plain": [
       "('namesl', 'mesl')"
      ]
     },
     "execution_count": 6,
     "metadata": {},
     "output_type": "execute_result"
    }
   ],
   "source": [
    "def subcadena_mes_llarga(cadena):\n",
    "    \n",
    "    repetides = []\n",
    "    subcadena = \"\"\n",
    "    aux = \"\"\n",
    "    i = 0\n",
    "    j = 1\n",
    "    \n",
    "    while i < len(cadena):\n",
    "        \n",
    "        if cadena[i] not in repetides:\n",
    "            repetides.append(cadena[i])\n",
    "            aux += cadena[i]\n",
    "            if len(aux) > len(subcadena):\n",
    "                subcadena = aux\n",
    "            i += 1\n",
    "        else:\n",
    "            i = j\n",
    "            j += 1\n",
    "            aux = \"\"\n",
    "            repetides = []\n",
    "\n",
    "    #print(repetides)\n",
    "    return subcadena\n",
    "\n",
    "subcadena_mes_llarga('lacadenamesllarga'), subcadena_mes_llarga('mesllarga')   \n",
    "\n",
    "#complexitat algorisme O(n)"
   ]
  },
  {
   "cell_type": "code",
   "execution_count": 7,
   "metadata": {},
   "outputs": [
    {
     "data": {
      "text/plain": [
       "'a'"
      ]
     },
     "execution_count": 7,
     "metadata": {},
     "output_type": "execute_result"
    }
   ],
   "source": [
    "subcadena_mes_llarga('aaa')"
   ]
  },
  {
   "cell_type": "code",
   "execution_count": 8,
   "metadata": {},
   "outputs": [],
   "source": [
    "assert subcadena_mes_llarga('lacadenamesllarga') == 'namesl'"
   ]
  },
  {
   "cell_type": "code",
   "execution_count": 9,
   "metadata": {},
   "outputs": [],
   "source": [
    "assert subcadena_mes_llarga('mesllarga') == 'mesl'"
   ]
  },
  {
   "cell_type": "code",
   "execution_count": 10,
   "metadata": {},
   "outputs": [],
   "source": [
    "assert subcadena_mes_llarga('aaa') == 'a'"
   ]
  }
 ],
 "metadata": {
  "kernelspec": {
   "display_name": "Python 3",
   "language": "python",
   "name": "python3"
  },
  "language_info": {
   "codemirror_mode": {
    "name": "ipython",
    "version": 3
   },
   "file_extension": ".py",
   "mimetype": "text/x-python",
   "name": "python",
   "nbconvert_exporter": "python",
   "pygments_lexer": "ipython3",
   "version": "3.6.5"
  }
 },
 "nbformat": 4,
 "nbformat_minor": 2
}
