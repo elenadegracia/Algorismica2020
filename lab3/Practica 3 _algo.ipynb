{
 "cells": [
  {
   "cell_type": "markdown",
   "metadata": {},
   "source": [
    "# 2.1 Conversió Celsius a Fahrenheit i convert0a50\n",
    "\n",
    "#### La funció convert converteix els graus Celsius en graus Fahrenheit:\n",
    "\n",
    " "
   ]
  },
  {
   "cell_type": "code",
   "execution_count": 1,
   "metadata": {},
   "outputs": [
    {
     "data": {
      "text/plain": [
       "89.6"
      ]
     },
     "execution_count": 1,
     "metadata": {},
     "output_type": "execute_result"
    }
   ],
   "source": [
    "def convert_temp(temp_Celsius):\n",
    "    \n",
    "    #celsius = int(input(\"Quina és la temperatura en Celsius? \"))\n",
    "    temp_Fahrenheit = 9.0 / 5.0 * temp_Celsius + 32\n",
    "    return temp_Fahrenheit\n",
    "\n",
    "convert_temp(32)"
   ]
  },
  {
   "cell_type": "markdown",
   "metadata": {},
   "source": [
    "#### Utilitzant la funcio anterior, escriu una nova funcio convert0a50 que calculi i imprimeixi una llista de temperatures Celsius i dels seus equivalents Fahrenheit cada 5 graus, de 0◦C a 50◦C."
   ]
  },
  {
   "cell_type": "code",
   "execution_count": 17,
   "metadata": {},
   "outputs": [],
   "source": [
    "def convertTemp(temp_Celsius):\n",
    "    \n",
    "    tempFahrenheit = 9.0 / 5.0 * temp_Celsius + 32\n",
    "    return tempFahrenheit\n",
    "\n",
    "def convert0a50():\n",
    "    \n",
    "    list_temp_Fahrenheit = []\n",
    "    for i in range(0, 50 + 5, 5):\n",
    "        list_temp_Fahrenheit.append((i,convertTemp(i)))\n",
    "        #print(\"i\", i)\n",
    "    return list_temp_Fahrenheit"
   ]
  },
  {
   "cell_type": "code",
   "execution_count": 18,
   "metadata": {},
   "outputs": [
    {
     "name": "stdout",
     "output_type": "stream",
     "text": [
      "[(0, 32.0), (5, 41.0), (10, 50.0), (15, 59.0), (20, 68.0), (25, 77.0), (30, 86.0), (35, 95.0), (40, 104.0), (45, 113.0), (50, 122.0)]\n"
     ]
    }
   ],
   "source": [
    "print(convert0a50())"
   ]
  },
  {
   "cell_type": "markdown",
   "metadata": {},
   "source": [
    "# 2.2 Inversió económica, Futval2\n",
    "#### calcula els diners que tindrem en un compte del banc al cap de 10 anys en funci´o de la inversi´o inicial (en euros) i de l’interes que ens d´ona el banc (en %) suposant un subperiode anual"
   ]
  },
  {
   "cell_type": "code",
   "execution_count": 25,
   "metadata": {},
   "outputs": [
    {
     "data": {
      "text/plain": [
       "259.37424601000026"
      ]
     },
     "execution_count": 25,
     "metadata": {},
     "output_type": "execute_result"
    }
   ],
   "source": [
    "def futval(inversio, interes):\n",
    "    \n",
    "    principal = inversio\n",
    "    \n",
    "    for i in range(10):\n",
    "        principal = principal * (1 + interes)\n",
    "    return principal\n",
    "    \n",
    "futval(100, 0.1)"
   ]
  },
  {
   "cell_type": "code",
   "execution_count": 26,
   "metadata": {},
   "outputs": [
    {
     "data": {
      "text/plain": [
       "34633.532098252814"
      ]
     },
     "execution_count": 26,
     "metadata": {},
     "output_type": "execute_result"
    }
   ],
   "source": [
    "def futval2(inicial, anys, interesPerCent, comissioPerCent):\n",
    "    \n",
    "    principal = inicial\n",
    "    interes = interesPerCent\n",
    "    comicio = comissioPerCent\n",
    "    \n",
    "    for i in range(anys):\n",
    "        principal = principal * (1 + interes)\n",
    "    diners = principal - (principal * comicio)\n",
    "    return diners\n",
    "    \n",
    "futval2(100,10,0.8,0.03)"
   ]
  },
  {
   "cell_type": "code",
   "execution_count": 27,
   "metadata": {},
   "outputs": [],
   "source": [
    "assert abs(futval2(100,10,0.8,0.3) - 24993.270) < 0.1"
   ]
  },
  {
   "cell_type": "markdown",
   "metadata": {},
   "source": [
    "# 2.3 Condicionals. Prou cerveses\n",
    "#### Escriu una funcio en la que donat un nombre de cerveses i un boolea indicant si es cap de setmana o no, retorni una cadena de caracters que expliquin si lafesta sera un exit o no."
   ]
  },
  {
   "cell_type": "code",
   "execution_count": 30,
   "metadata": {},
   "outputs": [
    {
     "data": {
      "text/plain": [
       "('Èxit', 'Fracas', 'Èxit', 'Fracas', 'Fracas')"
      ]
     },
     "execution_count": 30,
     "metadata": {},
     "output_type": "execute_result"
    }
   ],
   "source": [
    "def prouCerveses(num_cerveses, es_cap_de_setmana):\n",
    "    \n",
    "    if not es_cap_de_setmana and (100 >= num_cerveses >= 50):\n",
    "        return \"Èxit\"\n",
    "    \n",
    "    elif es_cap_de_setmana and num_cerveses >= 50:\n",
    "        return \"Èxit\"\n",
    "    \n",
    "    return \"Fracas\"\n",
    "\n",
    "prouCerveses(75, False),prouCerveses(125, False), prouCerveses(125, True), prouCerveses(12, True), prouCerveses(12, False)"
   ]
  },
  {
   "cell_type": "code",
   "execution_count": null,
   "metadata": {},
   "outputs": [],
   "source": [
    "assert prouCerveses(75, False) == '`Exit'\n",
    "assert prouCerveses(125, False) == 'Fracas'\n",
    "assert prouCerveses(125, True) == '`Exit'"
   ]
  },
  {
   "cell_type": "markdown",
   "metadata": {},
   "source": [
    "#### Escriu una funci´o que, donat un nombre amb la qualificacio numerica d’un examen, proporcioni la qualificacio qualitativa corresponent al nombre donat"
   ]
  },
  {
   "cell_type": "code",
   "execution_count": 7,
   "metadata": {},
   "outputs": [],
   "source": [
    "def nota(num):\n",
    "    \n",
    "    dicc = {1: \"suspes\", 5: \"aprovat\", 7: \"Notable\", 9: \"Excelent\", 10: \"Matricula d'honor\", 11: \"Incorrecte\"}\n",
    "    \n",
    "    if 0 > num > 10:\n",
    "        qualificacio = dicc[11]\n",
    "    if num < 5:\n",
    "        qualificacio = dicc[1]\n",
    "    elif 5 <= num < 7:\n",
    "        qualificacio = dicc[5]\n",
    "    elif 7 <= num < 9:\n",
    "        qualificacio =  dicc[7]\n",
    "    elif 9 <= num < 10:\n",
    "        qualificacio = dicc[9]\n",
    "    elif num == 10:\n",
    "        qualificacio = dicc[10]\n",
    "        \n",
    "    return qualificacio"
   ]
  },
  {
   "cell_type": "code",
   "execution_count": 19,
   "metadata": {},
   "outputs": [
    {
     "data": {
      "text/plain": [
       "('Notable', 'Excelent', 'suspes')"
      ]
     },
     "execution_count": 19,
     "metadata": {},
     "output_type": "execute_result"
    }
   ],
   "source": [
    "nota(8.9), nota(9.3), nota(0)"
   ]
  },
  {
   "cell_type": "code",
   "execution_count": null,
   "metadata": {},
   "outputs": [],
   "source": [
    "assert nota(8.9) == 'Notable'\n"
   ]
  },
  {
   "cell_type": "markdown",
   "metadata": {},
   "source": [
    "# 2.5 Capicua\n",
    "\n",
    "#### Escriu una funcio que donada una cadena de caracters determini si es capicua."
   ]
  },
  {
   "cell_type": "code",
   "execution_count": 21,
   "metadata": {},
   "outputs": [
    {
     "data": {
      "text/plain": [
       "True"
      ]
     },
     "execution_count": 21,
     "metadata": {},
     "output_type": "execute_result"
    }
   ],
   "source": [
    "def es_Capicua(paraula):\n",
    "    \n",
    "    p = paraula.lower()\n",
    "    mig = len(paraula) // 2\n",
    "    i = 0\n",
    "    j = len(paraula) - 1\n",
    "    b_es_capicua = True\n",
    "    \n",
    "    while i != mig:\n",
    "        if p[i] != p[j]:\n",
    "            b_es_capicua = False\n",
    "            break\n",
    "        i += 1\n",
    "        j -= 1\n",
    "    return b_es_capicua\n",
    "\n",
    "es_Capicua(\"llull\") "
   ]
  },
  {
   "cell_type": "code",
   "execution_count": 22,
   "metadata": {},
   "outputs": [
    {
     "data": {
      "text/plain": [
       "False"
      ]
     },
     "execution_count": 22,
     "metadata": {},
     "output_type": "execute_result"
    }
   ],
   "source": [
    "es_Capicua(\"llullu\")"
   ]
  },
  {
   "cell_type": "code",
   "execution_count": null,
   "metadata": {},
   "outputs": [],
   "source": [
    "assert es_capicua(\"llull\") == True\n",
    "assert es_capicua(\"llullu\") == False"
   ]
  },
  {
   "cell_type": "markdown",
   "metadata": {},
   "source": [
    "#### Escriu una funcio que, donada una cadena de caracters, determini si al aplicar rotacions de lletres, es capicua. "
   ]
  },
  {
   "cell_type": "code",
   "execution_count": 23,
   "metadata": {},
   "outputs": [
    {
     "name": "stdout",
     "output_type": "stream",
     "text": [
      "BAABCC\n",
      "AABCCB\n",
      "ABCCBA\n",
      "BCCBAA\n",
      "CCBAAB\n"
     ]
    },
    {
     "data": {
      "text/plain": [
       "True"
      ]
     },
     "execution_count": 23,
     "metadata": {},
     "output_type": "execute_result"
    }
   ],
   "source": [
    "\n",
    "def es_Capicua(paraula):\n",
    "    \n",
    "    p = paraula.lower()\n",
    "    mig = len(paraula) // 2\n",
    "    i = 0\n",
    "    j = len(paraula) - 1\n",
    "    b_es_capicua = True\n",
    "    \n",
    "    while i != mig:\n",
    "        if p[i] != p[j]:\n",
    "            b_es_capicua = False\n",
    "            break\n",
    "        i += 1\n",
    "        j -= 1\n",
    "    return b_es_capicua\n",
    "\n",
    "\n",
    "def es_capicua_rotacions(paraula):\n",
    "    \n",
    "    b_es_capicua = False\n",
    "    \n",
    "    for i in range(len(paraula) - 1):\n",
    "        rotacioCapicua = paraula[i:] + paraula[:i]\n",
    "        print(rotacioCapicua)\n",
    "        \n",
    "        if es_Capicua(rotacioCapicua):\n",
    "            b_es_capicua = True\n",
    "    \n",
    "    return b_es_capicua\n",
    "\n",
    "es_capicua_rotacions(\"BAABCC\")"
   ]
  },
  {
   "cell_type": "code",
   "execution_count": 24,
   "metadata": {},
   "outputs": [
    {
     "name": "stdout",
     "output_type": "stream",
     "text": [
      "ABCD\n",
      "BCDA\n",
      "CDAB\n"
     ]
    },
    {
     "data": {
      "text/plain": [
       "False"
      ]
     },
     "execution_count": 24,
     "metadata": {},
     "output_type": "execute_result"
    }
   ],
   "source": [
    "es_capicua_rotacions(\"ABCD\")"
   ]
  },
  {
   "cell_type": "code",
   "execution_count": null,
   "metadata": {},
   "outputs": [],
   "source": [
    "assert es_capicua_rotacions(\"BAABCC\") == True"
   ]
  }
 ],
 "metadata": {
  "kernelspec": {
   "display_name": "Python 3",
   "language": "python",
   "name": "python3"
  },
  "language_info": {
   "codemirror_mode": {
    "name": "ipython",
    "version": 3
   },
   "file_extension": ".py",
   "mimetype": "text/x-python",
   "name": "python",
   "nbconvert_exporter": "python",
   "pygments_lexer": "ipython3",
   "version": "3.6.5"
  }
 },
 "nbformat": 4,
 "nbformat_minor": 2
}
