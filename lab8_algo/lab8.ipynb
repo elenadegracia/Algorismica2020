{
 "cells": [
  {
   "cell_type": "markdown",
   "metadata": {},
   "source": [
    "# PRACTICA 8 "
   ]
  },
  {
   "cell_type": "markdown",
   "metadata": {},
   "source": [
    "### 4.5 Levenshtein"
   ]
  },
  {
   "cell_type": "markdown",
   "metadata": {},
   "source": [
    "Algorisme de teoria "
   ]
  },
  {
   "cell_type": "code",
   "execution_count": 53,
   "metadata": {},
   "outputs": [],
   "source": [
    "def levenshtein_distance(first, second):\n",
    "    if len(first) > len(second): \n",
    "        first, second = second, first\n",
    "    if len(second) == 0: \n",
    "        return len(first)\n",
    "    first_length = len(first) + 1\n",
    "    second_length = len(second) + 1\n",
    "    distance_matrix = [[0] * second_length for x in range(first_length)]\n",
    "    for i in range(first_length): \n",
    "        distance_matrix[i][0] = i\n",
    "    for j in range(second_length): \n",
    "        distance_matrix[0][j] = j\n",
    "    for i in range(1, first_length):\n",
    "        for j in range(1, second_length):\n",
    "            deletion = distance_matrix[i][j - 1] + 1\n",
    "            insertion = distance_matrix[i - 1][j] + 1\n",
    "            substitution = distance_matrix[i-1][j-1]\n",
    "            if first[i-1] != second[j-1]: \n",
    "                substitution += 1\n",
    "            distance_matrix[i][j] = min(insertion,deletion,substitution)\n",
    "    return distance_matrix[first_length-1][second_length-1]"
   ]
  },
  {
   "cell_type": "markdown",
   "metadata": {},
   "source": [
    "Algorisme modificat per la pràctica"
   ]
  },
  {
   "cell_type": "code",
   "execution_count": 90,
   "metadata": {},
   "outputs": [],
   "source": [
    "def levensthein(patro, text, dlt = 2, insr = 2, subs = 1):\n",
    "    \n",
    "    #comprovar les longituds del patro i del text\n",
    "    if len(patro) > len(text): \n",
    "        patro, text = text, patro\n",
    "    if len(text) == 0: \n",
    "        return len(patro)\n",
    "    \n",
    "    #inicialitzem matriu\n",
    "    len_patro = len(patro) + 1\n",
    "    len_text = len(text) + 1\n",
    "    matriu_distancia = [[0] * len_text for x in range(len_patro)]\n",
    "    \n",
    "    #inicialitzem una segona matriu per guardar les operacions \n",
    "    matriu_operacions = [[0] * len_text for x in range(len_patro)]\n",
    "    \n",
    "    #omplim amb els valors inicials\n",
    "    for i in range(len_patro): \n",
    "        matriu_distancia[i][0] = i * insr #insercio te un cost = 2\n",
    "    for j in range(len_text): \n",
    "        matriu_distancia[0][j] = 0 # primera fila tot amb 0 \n",
    "        \n",
    "        \n",
    "    #recorregut resta de caselles\n",
    "    for i in range(1, len_patro):   \n",
    "        for j in range(1, len_text):\n",
    "            deletion = matriu_distancia[i][j - 1] + dlt\n",
    "            insertion = matriu_distancia[i - 1][j] + insr\n",
    "            if patro[i - 1] != text[j - 1]:\n",
    "                cost = subs\n",
    "                substitution = matriu_distancia[i - 1][j - 1] + cost\n",
    "            else:\n",
    "                cost = 0 #les lletres coincideixen \n",
    "                substitution = matriu_distancia[i-1][j-1] + cost\n",
    "            matriu_distancia[i][j] = min(insertion, deletion, substitution)\n",
    "           \n",
    "            \n",
    "            #omplim la segona matriu amb les operacions -> punt 1.4\n",
    "            if matriu_distancia[i][j] == substitution and cost == 0:\n",
    "                #coincideixen \n",
    "                matriu_operacions[i][j] = 'C'\n",
    "            elif matriu_distancia[i][j] == deletion:\n",
    "                #elimina\n",
    "                matriu_operacions[i][j] = 'D'\n",
    "            elif matriu_distancia[i][j] == insertion:\n",
    "                #inserta\n",
    "                matriu_operacions[i][j] = 'I' \n",
    "            elif matriu_distancia[i][j] == substitution:\n",
    "                #substituira\n",
    "                matriu_operacions[i][j] = 'S'\n",
    "      \n",
    "    \n",
    "    # bucle final per transformar el patro -> punt 1.5\n",
    "    matriu_reversa = []\n",
    "    fila = len(matriu_distancia) - 1\n",
    "    \n",
    "    # la posicio final sera la posicio del minim a la ultima fila\n",
    "    posFinal = matriu_distancia[i].index(min(matriu_distancia[i]))\n",
    "    columna = posFinal\n",
    "    matriu_reversa.append(matriu_operacions[fila][columna])\n",
    "    \n",
    "    #recorre la matriu i guarda les operacions realitzades \n",
    "    while fila > 0 and columna > 0:\n",
    "        op = matriu_operacions[fila][columna]\n",
    "        \n",
    "        if op == 'D':\n",
    "            columna -= 1\n",
    "            matriu_reversa.append('D')\n",
    "        elif op == 'I':\n",
    "            fila -= 1\n",
    "            matriu_reversa.append('I')\n",
    "        elif op == 'S':\n",
    "            fila -= 1\n",
    "            columna -= 1\n",
    "            matriu_reversa.append('S')\n",
    "        elif op == 'C':\n",
    "            fila -= 1\n",
    "            columna -= 1\n",
    "            matriu_reversa.append('C')\n",
    "    matriu_reversa.reverse()\n",
    "\n",
    "    return min(matriu_distancia[i]), (columna, posFinal), matriu_reversa[: -1]\n",
    "\n"
   ]
  },
  {
   "cell_type": "code",
   "execution_count": 91,
   "metadata": {},
   "outputs": [],
   "source": [
    "def dna(patro, fitxer = 'HUMAN-DNA.txt'):\n",
    "    #linies de codi copiades del correu enviat pel professor\n",
    "    with open(fitxer, 'r') as f:\n",
    "        texto = f.read()\n",
    "        linias = texto.split('\\n')\n",
    "        \n",
    "    tupla_subcadena = ()\n",
    "    linia = 0\n",
    "    linia_text = 0\n",
    "    seq_operacions = []\n",
    "    distancia_linia = 99999999999999999999999999999999999999999999999\n",
    "    \n",
    "    for i in linias:\n",
    "        distancia, tupla, seq = levensthein(patro, i)\n",
    "        if distancia < distancia_linia:\n",
    "            tupla_subcadena = tupla\n",
    "            distancia_linia = distancia\n",
    "            seq_operacions = seq\n",
    "            linia_text = linia\n",
    "        linia += 1\n",
    "    return linia_text, tupla_subcadena, distancia_linia, seq_operacions\n",
    "            "
   ]
  },
  {
   "cell_type": "code",
   "execution_count": 92,
   "metadata": {},
   "outputs": [],
   "source": [
    "assert dna(\"CTGGTACCAGCTGTATTAGC\") == (728, (11, 31), 6, ['C', 'C', 'C', 'C', 'C', 'C', 'C', 'S', 'C', 'S', 'C', 'S', 'S', 'S', 'C', 'C', 'S', 'C', 'C', 'C'])\n",
    "assert dna(\"TCGTCATAAACCGCTGTGCC\") == (212, (12, 32), 7, ['S', 'C', 'S', 'C', 'C', 'C', 'C', 'C', 'C', 'C', 'C', 'C', 'S', 'S', 'C', 'C', 'S', 'S', 'C', 'S'])"
   ]
  },
  {
   "cell_type": "code",
   "execution_count": 84,
   "metadata": {},
   "outputs": [],
   "source": [
    "assert dna(\"TATACAAACGGAGTAGCTGT\") == (285, (5, 25), 6, ['C', 'C', 'C', 'C', 'S', 'C', 'S', 'C', 'C', 'S', 'C', 'S', 'S', 'C', 'C', 'C', 'S', 'C', 'C', 'C'])\n",
    "assert dna(\"AGGCGTAAGTCTTACGTATA\") == (5, (41, 61), 7, ['C', 'S', 'C', 'S', 'S', 'C', 'C', 'C', 'C', 'C', 'C', 'S', 'C', 'S', 'S', 'C', 'S', 'C', 'C', 'C'])"
   ]
  },
  {
   "cell_type": "code",
   "execution_count": 85,
   "metadata": {},
   "outputs": [],
   "source": [
    "assert dna(\"AACGGCATAGCCTGCAAGAG\") == (433, (41, 61), 5, ['C', 'C', 'S', 'C', 'C', 'C', 'C', 'S', 'C', 'S', 'C', 'C', 'C', 'C', 'C', 'C', 'C', 'S', 'C', 'S'])\n",
    "assert dna(\"GTGCGTCCACCCTTAATACA\") == (196, (41, 61), 6, ['C', 'C', 'C', 'S', 'S', 'C', 'S', 'C', 'C', 'C', 'C', 'C', 'C', 'S', 'C', 'S', 'C', 'C', 'S', 'C'])"
   ]
  },
  {
   "cell_type": "code",
   "execution_count": 87,
   "metadata": {},
   "outputs": [],
   "source": [
    "assert dna(\"CCCTAAAACCAAAAGTGTTG\") == (199, (30, 49), 6, ['S', 'C', 'C', 'C', 'S', 'C', 'C', 'C', 'S', 'S', 'C', 'C', 'C', 'C', 'C', 'C', 'C', 'I', 'C', 'C'])\n",
    "assert dna(\"GTCAGCACCGGGATCTGTAT\") == (240, (26, 46), 7, ['C', 'S', 'C', 'S', 'S', 'C', 'C', 'C', 'C', 'C', 'S', 'C', 'C', 'S', 'C', 'S', 'C', 'C', 'S', 'C'])\n",
    "assert dna(\"GAGCCCCGACGTTTTAACGA\") == (68, (6, 26), 7, ['S', 'C', 'C', 'C', 'C', 'C', 'C', 'S', 'C', 'C', 'S', 'C', 'S', 'C', 'C', 'C', 'S', 'S', 'S', 'C'])\n",
    "assert dna(\"CCTCGTAGACAGTACCGAAT\") == (448, (30, 50), 6, ['C', 'S', 'C', 'C', 'S', 'C', 'C', 'S', 'C', 'C', 'C', 'S', 'C', 'C', 'C', 'C', 'S', 'S', 'C', 'C'])\n",
    "assert dna(\"CGACCAAAGAGCCTGTATCT\") == (320, (35, 55), 7, ['S', 'S', 'C', 'S', 'S', 'C', 'C', 'C', 'C', 'S', 'C', 'S', 'C', 'C', 'S', 'C', 'C', 'C', 'C', 'C'])\n",
    "assert dna(\"CGTGGTGTCCATACCCTAGC\") == (835, (24, 43), 6, ['C', 'S', 'C', 'C', 'C', 'C', 'C', 'S', 'C', 'C', 'C', 'C', 'S', 'C', 'C', 'C', 'I', 'C', 'S', 'C'])\n",
    "assert dna(\"GTGATAGACCTTTTAAGCTG\") == (409, (18, 37), 6, ['S', 'C', 'C', 'C', 'C', 'C', 'I', 'C', 'C', 'C', 'C', 'C', 'S', 'C', 'C', 'C', 'S', 'S', 'C', 'C'])"
   ]
  },
  {
   "cell_type": "code",
   "execution_count": 89,
   "metadata": {},
   "outputs": [
    {
     "name": "stdout",
     "output_type": "stream",
     "text": [
      "All tests passed!\n"
     ]
    }
   ],
   "source": [
    "assert dna(\"TAAGTCTTTGGTCACCCCCG\") == (19, (10, 29), 7, ['C', 'S', 'C', 'C', 'C', 'C', 'C', 'S', 'C', 'C', 'C', 'I', 'C', 'C', 'C', 'C', 'S', 'C', 'S', 'S'])\n",
    "assert dna(\"GACACACACTTGGATCTTCG\") == (565, (16, 36), 6, ['C', 'S', 'C', 'C', 'C', 'S', 'S', 'C', 'C', 'C', 'C', 'C', 'S', 'S', 'S', 'C', 'C', 'C', 'C', 'C'])\n",
    "assert dna(\"CTGGACGTTCATACATAGAC\") == (28, (21, 41), 7, ['C', 'C', 'C', 'C', 'C', 'C', 'S', 'C', 'C', 'S', 'S', 'S', 'C', 'S', 'C', 'S', 'C', 'C', 'C', 'S'])\n",
    "assert dna(\"ACGTTTTACCCCAAAGCCCG\") == (753, (4, 24), 7, ['C', 'S', 'S', 'S', 'S', 'C', 'C', 'C', 'C', 'S', 'C', 'C', 'C', 'C', 'C', 'C', 'S', 'C', 'S', 'C'])\n",
    "assert dna(\"CGGGTAGAAATCTCCGCTTG\") == (361, (30, 50), 6, ['S', 'C', 'C', 'C', 'C', 'C', 'C', 'C', 'S', 'S', 'C', 'C', 'S', 'C', 'C', 'S', 'S', 'C', 'C', 'C'])\n",
    "print(\"All tests passed!\")"
   ]
  },
  {
   "cell_type": "code",
   "execution_count": null,
   "metadata": {},
   "outputs": [],
   "source": []
  }
 ],
 "metadata": {
  "kernelspec": {
   "display_name": "Python 3",
   "language": "python",
   "name": "python3"
  },
  "language_info": {
   "codemirror_mode": {
    "name": "ipython",
    "version": 3
   },
   "file_extension": ".py",
   "mimetype": "text/x-python",
   "name": "python",
   "nbconvert_exporter": "python",
   "pygments_lexer": "ipython3",
   "version": "3.6.5"
  }
 },
 "nbformat": 4,
 "nbformat_minor": 2
}
