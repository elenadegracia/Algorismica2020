{
 "cells": [
  {
   "cell_type": "markdown",
   "metadata": {
    "id": "9ZiI7WIslnZa"
   },
   "source": [
    "<div id=\"capcalera\">\n",
    "<p><a href=\"https://colab.research.google.com/github/algorismica2019/problemes/blob/master/BasicsCadenes.ipynb\"><img style=\"margin:-10px 10px 20px 0\" width=\"150px\" align=\"right\" src=\"https://raw.githubusercontent.com/algorismica2019/problemes/master/assets/colab-badge.png?raw=1\" alt=\"Obrir a Colab\" title=\"Obrir i executar a Google Colaboratory\"></a></p>\n",
    "<p style=\"clear:both\"><img align='left' width=\"300px\" style=\"padding-right:10px;float=left\" src=\"https://raw.githubusercontent.com/algorismica2019/problemes/master/assets/al-khwarizmi.png\">Aquest notebook forma part dels continguts teòrics dels problemes de l'assignatura d'<strong>Algorísmica</strong> del Grau d'Enginyeria Informàtica a la <a href=\"https://mat.ub.edu\">Facultat de Matemàtiques i Informàtica</a> de la <a href=\"https://www.ub.edu\">Universitat de Barcelona</a> impartida per <em>Jordi Vitrià</em> i <em>Mireia Ribera</em></p>\n",
    "\n",
    "<p>Els problemes s'ofereixen sota llicència <a href=\"https://creativecommons.org/licenses/by-nc-nd/3.0/us/legalcode\">CC-BY-NC-ND license</a>, i el codi sota <a href=\"https://opensource.org/licenses/MIT\">Llicència MIT</a>.</p>\n",
    "\n",
    "<p style=\"clear:both;text-align:center\">&lt; <a href=\"BasicsVariables.ipynb\">Bàsics variables </a> | <a href=\"Basics.ipynb\">Problemes Bàsics de Python</a> | <a href=\"LListatProblemes.ipynb\">LListat de problemes general</a> | <a href=\"BasicsControl.ipynb\">Bàsics Control</a> &gt; </p>\n",
    "\n",
    "</div>"
   ]
  },
  {
   "cell_type": "markdown",
   "metadata": {
    "id": "VjL098mylnZb"
   },
   "source": [
    "# <span class=\"tema\">(Bàsics Python)</span> Cadenes (strings)"
   ]
  },
  {
   "cell_type": "markdown",
   "metadata": {
    "id": "iyVnVm1ulnZb"
   },
   "source": [
    "Les solucions a aquests exercicis són al fitxer [SolucionsCadenes](BasicsCadenes-Solucio.ipynb)"
   ]
  },
  {
   "cell_type": "markdown",
   "metadata": {
    "id": "c0Tqt2P9lnZc"
   },
   "source": [
    "<p class=\"exercici\">Exercici 1: Tallar cadena</p>\n",
    "\n",
    "Escriu una funció que donats una cadena i un nombre $n<<len(cadena)$, elimini els primers n caràcters i els darrers n caràcters de la cadena.\n",
    "\n",
    "Font: Adaptat de [Python praktikum / Alessandro Mammana](https://www.molgen.mpg.de/3372238/python_praesentation.pdf)"
   ]
  },
  {
   "cell_type": "code",
   "execution_count": 1,
   "metadata": {},
   "outputs": [
    {
     "data": {
      "text/plain": [
       "'5'"
      ]
     },
     "execution_count": 1,
     "metadata": {},
     "output_type": "execute_result"
    }
   ],
   "source": [
    "def cadena(n, llarg):\n",
    "    return llarg[n: len(llarg) - n]\n",
    "cadena(4, \"111151111\")"
   ]
  },
  {
   "cell_type": "code",
   "execution_count": 3,
   "metadata": {},
   "outputs": [
    {
     "data": {
      "text/plain": [
       "'3333'"
      ]
     },
     "execution_count": 3,
     "metadata": {},
     "output_type": "execute_result"
    }
   ],
   "source": [
    "cadena(2, \"12333345\")"
   ]
  },
  {
   "cell_type": "markdown",
   "metadata": {
    "id": "aeuZVvfFlnZd"
   },
   "source": [
    "<p class=\"exercici\">Exercici 2: Slicing i conversió</p>\n",
    "\n",
    "Imagina que tens la següent cadena:\n",
    "\n",
    "text = 'X-DSPAM-Confidence:0.8475'\n",
    "\n",
    "Retalla-la pels dos punts amb `split`, agafa la darrera part i usa la funció `float()` per convertir la segona part en un nombre decimal.\n",
    "\n",
    "Font: Adaptat de [Python for Everybody / Charles Severance](https://books.trinket.io/pfe/index.html)"
   ]
  },
  {
   "cell_type": "code",
   "execution_count": 4,
   "metadata": {},
   "outputs": [
    {
     "name": "stdout",
     "output_type": "stream",
     "text": [
      "0.8475 <class 'float'>\n"
     ]
    }
   ],
   "source": [
    "def slicingIconversio(text):\n",
    "    t = text.split(\":\")\n",
    "    num = t[-1]\n",
    "    f = float(num)\n",
    "    print(f, type(f))\n",
    "\n",
    "slicingIconversio( 'X-DSPAM-Confidence:0.8475')    "
   ]
  },
  {
   "cell_type": "markdown",
   "metadata": {
    "id": "Qe2_PpwLlnZd"
   },
   "source": [
    "<p class=\"exercici\">Exercici 3: Mètodes de string</p>\n",
    "\n",
    "Llegeix la documentació sobre els [mètodes de string](https://docs.python.org/3.7/library/stdtypes.html?#string-methods). Inventa't dues cadenes i experimenta amb algun dels mètodes per assegurar-te que entens com funcionen. ``strip`` i ``replace`` són particularment útils.\n",
    "\n",
    "La documentació fa servir una sintaxi que pot resulta confusa. Per exemple, a ``find(sub[, start[, end]])``, els claudators indiquen que els arguments són opcionals, per tant, sub és necessari però start és optional, i si inclous start, end és opcional.\n",
    "\n",
    "    \n",
    "Font: Adaptat de [Python for Everybody / Charles Severance](https://books.trinket.io/pfe/index.html)"
   ]
  },
  {
   "cell_type": "code",
   "execution_count": 8,
   "metadata": {},
   "outputs": [
    {
     "name": "stdout",
     "output_type": "stream",
     "text": [
      "Son majuscules\n"
     ]
    }
   ],
   "source": [
    "def metodes():\n",
    "    \n",
    "    a = \"AAAAAA\"\n",
    "    \n",
    "    if a.isalpha():\n",
    "        print(\"Son majuscules\")\n",
    "    else:\n",
    "        print(\"es minuscula\")\n",
    "        \n",
    "metodes()"
   ]
  },
  {
   "cell_type": "code",
   "execution_count": 9,
   "metadata": {},
   "outputs": [
    {
     "name": "stdout",
     "output_type": "stream",
     "text": [
      "m'agraden els dissabtes\n"
     ]
    }
   ],
   "source": [
    "def metodes1():\n",
    "    \n",
    "    b = \"m'agraden els dilluns\"\n",
    "    b1 = b.replace(\"dilluns\", \"dissabtes\")\n",
    "    print(b1)\n",
    "\n",
    "metodes1()"
   ]
  },
  {
   "cell_type": "code",
   "execution_count": 10,
   "metadata": {},
   "outputs": [
    {
     "name": "stdout",
     "output_type": "stream",
     "text": [
      "Avui es dilluns i tinc son\n"
     ]
    }
   ],
   "source": [
    "def metodes2():\n",
    "    c = \"    es dilluns    \"\n",
    "    c1 = c.strip()\n",
    "    print(\"Avui\", c1, \"i tinc son\")\n",
    "metodes2()"
   ]
  },
  {
   "cell_type": "markdown",
   "metadata": {
    "id": "dwiRTVrjlnZf"
   },
   "source": [
    "<p class=\"exercici\">Exercici 4: Generador de passwords</p>\n",
    "\n",
    "Escriu una funció que generi passwords. La generació ha de ser aleatòria i ha de generar un password nou a cada execució. L'usuari ha de determinar la llargada del password.\n",
    "    \n",
    "Font: Adaptat de [Practice Python. Beginner Python exercises / Michele Pratusevich](http://www.practicepython.org)"
   ]
  },
  {
   "cell_type": "code",
   "execution_count": 12,
   "metadata": {},
   "outputs": [
    {
     "name": "stdout",
     "output_type": "stream",
     "text": [
      "Quina vols que sigui la llargada de la constrasenya?9\n"
     ]
    },
    {
     "data": {
      "text/plain": [
       "'·xMOYH%I$'"
      ]
     },
     "execution_count": 12,
     "metadata": {},
     "output_type": "execute_result"
    }
   ],
   "source": [
    "import random \n",
    "\n",
    "def contrasenya():\n",
    "    \n",
    "    op = \"abcdefghijklmnopqrstuvwxyz1234567890'¡!·$%&/()=?¿ABCDEFGHIJKLMNOPQRSTUVWXYZ.,\"\n",
    "    lon = int(input(\"Quina vols que sigui la llargada de la constrasenya?\"))\n",
    "    \n",
    "    contra = \"\".join(random.sample(op, lon))\n",
    "    return contra\n",
    "contrasenya()"
   ]
  },
  {
   "cell_type": "code",
   "execution_count": 13,
   "metadata": {},
   "outputs": [
    {
     "name": "stdout",
     "output_type": "stream",
     "text": [
      "Quina vols que sigui la llargada de la constrasenya?4\n"
     ]
    },
    {
     "data": {
      "text/plain": [
       "'3vhg'"
      ]
     },
     "execution_count": 13,
     "metadata": {},
     "output_type": "execute_result"
    }
   ],
   "source": [
    "contrasenya()"
   ]
  },
  {
   "cell_type": "code",
   "execution_count": 14,
   "metadata": {},
   "outputs": [
    {
     "name": "stdout",
     "output_type": "stream",
     "text": [
      "Quina vols que sigui la llargada de la constrasenya?1\n"
     ]
    },
    {
     "data": {
      "text/plain": [
       "'w'"
      ]
     },
     "execution_count": 14,
     "metadata": {},
     "output_type": "execute_result"
    }
   ],
   "source": [
    "contrasenya()"
   ]
  },
  {
   "cell_type": "code",
   "execution_count": 15,
   "metadata": {},
   "outputs": [
    {
     "name": "stdout",
     "output_type": "stream",
     "text": [
      "Quina vols que sigui la llargada de la constrasenya?9\n"
     ]
    },
    {
     "data": {
      "text/plain": [
       "\"KE'N·cF0H\""
      ]
     },
     "execution_count": 15,
     "metadata": {},
     "output_type": "execute_result"
    }
   ],
   "source": [
    "contrasenya()"
   ]
  },
  {
   "cell_type": "code",
   "execution_count": null,
   "metadata": {
    "id": "H0W6cBQ9lnZg",
    "outputId": "df5bbd1e-f477-4c13-b93f-6d3a2e824647"
   },
   "outputs": [
    {
     "data": {
      "text/html": [
       "<style><style>\n",
       "\n",
       "@import url('http://fonts.googleapis.com/css?family=Source+Code+Pro');\n",
       "@import url('http://fonts.googleapis.com/css?family=Lora');\n",
       "\n",
       "/*   adapted from https://github.com/edwardtufte/et-book/blob/gh-pages/et-book.css */\n",
       "\n",
       "@charset \"UTF-8\";\n",
       "\n",
       "@font-face {\n",
       "  font-family: \"et-book\";\n",
       "  src: url(\"et-book/roman-line-figures.ttf\") format(\"truetype\");\n",
       "  font-weight: normal;\n",
       "  font-style: normal\n",
       "}\n",
       "\n",
       "@font-face {\n",
       "  font-family: \"et-book\";\n",
       "  src: url(\"et-book/display-italic-old-style-figures.ttf\") format(\"truetype\");\n",
       "  font-weight: normal;\n",
       "  font-style: italic\n",
       "}\n",
       "\n",
       "@font-face {\n",
       "  font-family: \"et-book\";\n",
       "  src: url(\"et-book/bold-line-figures.ttf\") format(\"truetype\");\n",
       "  font-weight: bold;\n",
       "  font-style: normal\n",
       "}\n",
       "\n",
       "@font-face {\n",
       "  font-family: \"et-book-roman-old-style\";\n",
       "  src: url(\"et-book/roman-old-style-figures.ttf\") format(\"truetype\");\n",
       "  font-weight: normal;\n",
       "  font-style: normal;\n",
       "}\n",
       "\n",
       "html {\n",
       "       font-size: 15px !important;\n",
       "}\n",
       "\n",
       ".tema, h1 span { font-size: 14pt;\n",
       "\tfont-style: italic;\n",
       "\tfont-weight: 100;}\n",
       "\n",
       "#capcalera {\tfont-family:Arial;\n",
       "\t\tfont-size:12pt;\n",
       "\t\tbackground-color:#fff1f1;\n",
       "\t\tpadding:5px;\n",
       "\t\t}\n",
       "#peu {\tfont-family:Arial;\n",
       "\tfont-size:12pt;\n",
       "\tbackground-color:#fff1f1;\n",
       "\tpadding:2px;\n",
       "\tline-height:1}\n",
       "\n",
       ".exercici {color:#a60d0d;\n",
       "\t   /* border-width:0 0 2px 2px !important;\n",
       "\t   border-style:solid !important;\n",
       "\t   border-color:#5e3333 !important; */ }\n",
       "\n",
       ".explicacio {}\n",
       "\n",
       ".avaluacio {}\n",
       "\n",
       "\n",
       "#notebook-container, .notebook_cell_list {\n",
       "       font-size: 1rem !important;\n",
       "       line-height: 1.5 !important;\n",
       "       width: 100%  !important;\n",
       "       margin-left: auto !important;\n",
       "       margin-right: auto !important;\n",
       "       padding-left: 12.5% !important;\n",
       "       font-family: et-book, Palatino, \"Palatino Linotype\", \"Palatino LT STD\", \"Book Antiqua\", Georgia, serif  !important;\n",
       "       background-color: #fffff8 !important;\n",
       "       color: #111 !important;\n",
       "       max-width: 1400px !important; }\n",
       "\n",
       " .rendered .input_prompt {\n",
       "\t min-width:0 !important; } \n",
       "\n",
       ".text_cell_render h1, .markdown h1 { \n",
       "     font-weight: 400;\n",
       "     font-style: normal;\n",
       "     margin-top: 0rem;\n",
       "     margin-bottom: 0rem;\n",
       "     font-size: 2rem; }\n",
       "\n",
       " .text_cell_render h2 { font-style: italic;\n",
       "     font-weight: 400;\n",
       "     font-size: 1.5rem;\n",
       "     margin-top: 1.5rem;\n",
       "     margin-bottom: 1.5em; }\n",
       "\n",
       " .text_cell_render h3 { font-style: italic;\n",
       "             font-weight: 400;\n",
       "             margin-top: 1rem;\n",
       "             margin-bottom: 1rem;\n",
       "             font-size: 1.2rem;\n",
       "             display: block; }\n",
       "\n",
       " .text_cell_render h4 {\n",
       "    font-size: 1.1rem;\n",
       "    font-weight: 400;\n",
       "    margin: 1rem auto; }\n",
       "\n",
       ".rendered_html p { \n",
       "\tfont-size: 1rem !important; \n",
       "    \tmargin-top: 1rem !important;;\n",
       "    \tmargin-bottom: 1rem !important;;\n",
       "    \tpadding-right: 0 !important;;\n",
       "    \tvertical-align: baseline !important;; }\n",
       "\n",
       ".rendered_html blockquote { font-size: 1.1rem !important;}\n",
       "\n",
       ".rendered_html ol, ul { width: 75% !important;; }\n",
       "\n",
       ".rendered_html li { padding: 0.5rem 0 !important;; }\n",
       "\n",
       ".rendered_html table {\n",
       "  border-top: 2px solid #111 !important;\n",
       "  border-bottom: 2px solid #111 !important;\n",
       "  font-size: 0.8rem !important;\n",
       "}\n",
       "\n",
       ".rendered_html th {\n",
       "  border-bottom: 1px solid #111 !important;\n",
       "}\n",
       "\t \n",
       ".rendered_html a { text-decoration: none !important;\n",
       "         background: linear-gradient(#fffff8, #fffff8), linear-gradient(#fffff8, #fffff8), linear-gradient(#333, #333);\n",
       "         background-size: 0.05em 1px, 0.05em 1px, 1px 1px;\n",
       "         background-repeat: no-repeat, no-repeat, repeat-x;\n",
       "         text-shadow: 0.03em 0 #fffff8, -0.03em 0 #fffff8, 0 0.03em #fffff8, 0 -0.03em #fffff8, 0.06em 0 #fffff8, -0.06em 0 #fffff8, 0.09em 0 #fffff8, -0.09em 0 #fffff8, 0.12em 0 #fffff8, -0.12em 0 #fffff8, 0.15em 0 #fffff8, -0.15em 0 #fffff8;\n",
       "         background-position: 0% 93%, 100% 93%, 0% 93%; }\n",
       "\n",
       ".rendered_html a:link::selection { text-shadow: 0.03em 0 #b4d5fe, -0.03em 0 #b4d5fe, 0 0.03em #b4d5fe, 0 -0.03em #b4d5fe, 0.06em 0 #b4d5fe, -0.06em 0 #b4d5fe, 0.09em 0 #b4d5fe, -0.09em 0 #b4d5fe, 0.12em 0 #b4d5fe, -0.12em 0 #b4d5fe, 0.15em 0 #b4d5fe, -0.15em 0 #b4d5fe;\n",
       "                    background: #b4d5fe; }\n",
       " \n",
       ".rendered_html pre { \n",
       "\tborder:1px solid #cccccc !important; }\n",
       "\n",
       ".rendered_html * code { \n",
       "\tfont-size: 1rem !important;\n",
       "        line-height: 1.5 !important;\n",
       "\tfont-family: Consolas, \"Liberation Mono\", Menlo, Courier, monospace !important;\n",
       "\tbackground-color: #fff !important }\n",
       "</style> \n",
       "<script>\n",
       "    MathJax.Hub.Config({\n",
       "                        TeX: {\n",
       "                           extensions: [\"AMSmath.js\"],\n",
       "                           equationNumbers: { autoNumber: \"AMS\", useLabelIds: true}\n",
       "                           },\n",
       "                tex2jax: {\n",
       "                    inlineMath: [ ['$','$'], [\"\\\\(\",\"\\\\)\"] ],\n",
       "                    displayMath: [ ['$$','$$'], [\"\\\\[\",\"\\\\]\"] ]\n",
       "                },\n",
       "                displayAlign: 'center', // Change this to 'center' to center equations.\n",
       "                \"HTML-CSS\": {\n",
       "                    scale: 95,\n",
       "                        availableFonts: [],\n",
       "                        preferredFont:null,\n",
       "                        webFont: \"TeX\",\n",
       "                    styles: {'.MathJax_Display': {\"margin\": 4}}\n",
       "                },\n",
       "                 \"fast-preview\": {\n",
       "                    \"disabled\": false\n",
       "                }\n",
       "        });\n",
       "</script>\n",
       "</style>"
      ],
      "text/plain": [
       "<IPython.core.display.HTML object>"
      ]
     },
     "execution_count": 2,
     "metadata": {
      "tags": []
     },
     "output_type": "execute_result"
    }
   ],
   "source": [
    "# Executar aquesta cel.la per donar estil al notebook\n",
    "from IPython.core.display import HTML\n",
    "import requests\n",
    "style = requests.get('https://raw.githubusercontent.com/algorismica2019/problemes/master/assets/prova.css').text\n",
    "HTML('<style>{}</style>'.format(style))"
   ]
  },
  {
   "cell_type": "markdown",
   "metadata": {
    "id": "Kt5xgqzdlnZl"
   },
   "source": [
    "<div id=\"peu\">\n",
    "<p><a href=\"https://colab.research.google.com/github/algorismica2019/problemes/blob/master/BasicsCadenes.ipynb\"><img style=\"margin:-10px 10px 20px 0\" width=\"150px\" align=\"right\" src=\"https://raw.githubusercontent.com/algorismica2019/problemes/master/assets/colab-badge.png?raw=1\" alt=\"Obrir a Colab\" title=\"Obrir i executar a Google Colaboratory\"></a></p>\n",
    "<p style=\"clear:both;text-align:center\">&lt; <a href=\"BasicsVariables.ipynb\">Bàsics variables </a> | <a href=\"Basics.ipynb\">Problemes Bàsics de Python</a> | <a href=\"LListatProblemes.ipynb\">LListat de problemes general</a> | <a href=\"BasicsControl.ipynb\">Bàsics Control</a> &gt; </p>\n",
    "</div>"
   ]
  }
 ],
 "metadata": {
  "colab": {
   "name": "BasicsCadenes.ipynb",
   "provenance": []
  },
  "kernelspec": {
   "display_name": "Python 3",
   "language": "python",
   "name": "python3"
  },
  "language_info": {
   "codemirror_mode": {
    "name": "ipython",
    "version": 3
   },
   "file_extension": ".py",
   "mimetype": "text/x-python",
   "name": "python",
   "nbconvert_exporter": "python",
   "pygments_lexer": "ipython3",
   "version": "3.6.5"
  }
 },
 "nbformat": 4,
 "nbformat_minor": 1
}
