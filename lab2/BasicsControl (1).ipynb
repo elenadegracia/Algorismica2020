{
 "cells": [
  {
   "cell_type": "markdown",
   "metadata": {
    "colab_type": "text",
    "id": "XBno3FVZ7us5"
   },
   "source": [
    "\n",
    "<div id=\"capcalera\">\n",
    "<p><a href=\"https://colab.research.google.com/github/algorismica2019/problemes/blob/master/BasicsControl.ipynb\"><img style=\"margin:-10px 10px 20px 0\" width=\"150px\" align=\"right\" src=\"https://raw.githubusercontent.com/algorismica2019/problemes/master/assets/colab-badge.png?raw=1\" alt=\"Obrir a Colab\" title=\"Obrir i executar a Google Colaboratory\"></a></p>\n",
    "<p style=\"clear:both\"><img align='left' width=\"300px\" style=\"padding-right:10px;float=left\" src=\"https://raw.githubusercontent.com/algorismica2019/problemes/master/assets/al-khwarizmi.png\">Aquest notebook forma part dels continguts teòrics dels problemes de l'assignatura d'<strong>Algorísmica</strong> del Grau d'Enginyeria Informàtica a la <a href=\"https://mat.ub.edu\">Facultat de Matemàtiques i Informàtica</a> de la <a href=\"https://www.ub.edu\">Universitat de Barcelona</a> impartida per <em>Jordi Vitrià</em> i <em>Mireia Ribera</em></p>\n",
    "\n",
    "<p>Els problemes s'ofereixen sota llicència <a href=\"https://creativecommons.org/licenses/by-nc-nd/3.0/us/legalcode\">CC-BY-NC-ND license</a>, i el codi sota <a href=\"https://opensource.org/licenses/MIT\">Llicència MIT</a>.</p>\n",
    "\n",
    "<p style=\"clear:both;text-align:center\">&lt; <a href=\"BasicsCadenes.ipynb\">Bàsics cadenes </a> | <a href=\"Basics.ipynb\">Problemes Bàsics de Python</a> | <a href=\"LListatProblemes.ipynb\">LListat de problemes general</a> | <a href=\"BasicsLListes.ipynb\">Bàsics Llistes</a> &gt; </p>\n",
    "\n",
    "</div>"
   ]
  },
  {
   "cell_type": "markdown",
   "metadata": {
    "colab_type": "text",
    "id": "CmB1py2D7us6"
   },
   "source": [
    "# <span class=\"tema\">(Bàsics Python)</span> Control"
   ]
  },
  {
   "cell_type": "markdown",
   "metadata": {
    "colab_type": "text",
    "id": "kCShuWi27us7"
   },
   "source": [
    "Les solucions a aquests exercicis són al fitxer [Solucions control](BasicsControl-Solucio.ipynb)"
   ]
  },
  {
   "cell_type": "markdown",
   "metadata": {
    "colab_type": "text",
    "id": "Rt9swOEM7us8"
   },
   "source": [
    "<p class=\"exercici\">Exercici 1: Mínim i màxim</p>\n",
    "\n",
    "Escriu un programa que demani un número a l'usuari repetidament fins que aquest introdueixi -99. Quan hagi acabat d'introduir els números mostra per pantalla el mínim i el màxim de la llista.\n",
    "\n",
    "Exemple:\n",
    "\n",
    "    Introdueix un número: 7\n",
    "    Introdueix un número: 6\n",
    "    Introdueix un número: -1\n",
    "    Introdueix un número: -99\n",
    "    \n",
    "El número màxim introduit és el 7 i el  mínim el -1\n",
    "\n",
    "    \n",
    "Font: Adaptat de [Python for Everybody / Charles Severance](https://books.trinket.io/pfe/index.html)"
   ]
  },
  {
   "cell_type": "code",
   "execution_count": 1,
   "metadata": {},
   "outputs": [
    {
     "name": "stdout",
     "output_type": "stream",
     "text": [
      "Introdueix un numero. -99 per acabar1\n",
      "Introdueix un numero. -99 per acabar2\n",
      "Introdueix un numero. -99 per acabar3\n",
      "Introdueix un numero. -99 per acabar12\n",
      "Introdueix un numero. -99 per acabar-44\n",
      "Introdueix un numero. -99 per acabar-99\n",
      "El nombre mes gran es 12 i el mes petit -44\n"
     ]
    }
   ],
   "source": [
    "def minMax():\n",
    "    a = int(input(\"Introdueix un numero. -99 per acabar\"))\n",
    "    if a == -99:\n",
    "        return (\"buida\")\n",
    "    minim = a\n",
    "    maxim = a\n",
    "    \n",
    "    while a != -99:\n",
    "        if a < minim:\n",
    "            minim = a\n",
    "        if a > maxim:\n",
    "            maxim = a\n",
    "        a = int(input(\"Introdueix un numero. -99 per acabar\"))  \n",
    "    print(\"El nombre mes gran es\", maxim, \"i el mes petit\", minim)\n",
    "minMax()"
   ]
  },
  {
   "cell_type": "markdown",
   "metadata": {
    "colab_type": "text",
    "id": "2GCYjOBP7us8"
   },
   "source": [
    "<p class=\"exercici\">Exercici 2: Random</p>\n",
    "\n",
    "Escriu un programa en el que donades una seqüència de lletres com a cadena i un número n, retorna una cadena de llargada n formada per caràcters aleatoris de la seqüència de lleltres.\n",
    "\n",
    "Exemple:\n",
    "\n",
    "    aleatori('acgt', 10)\n",
    "    gactggtcag\n",
    "    \n",
    "Font: Adaptat de [Python praktikum / Alessandro Mammana](https://www.molgen.mpg.de/3372238/python_praesentation.pdf)"
   ]
  },
  {
   "cell_type": "code",
   "execution_count": 2,
   "metadata": {},
   "outputs": [
    {
     "data": {
      "text/plain": [
       "' tgcactgatg'"
      ]
     },
     "execution_count": 2,
     "metadata": {},
     "output_type": "execute_result"
    }
   ],
   "source": [
    "import random\n",
    "def aleatori(seq, n):\n",
    "    r = \" \"\n",
    "    for i in range(n):\n",
    "        r += random.choice(seq)\n",
    "    return r\n",
    "aleatori('acgt', 10)  "
   ]
  },
  {
   "cell_type": "code",
   "execution_count": 3,
   "metadata": {},
   "outputs": [
    {
     "data": {
      "text/plain": [
       "' tttgcatggg'"
      ]
     },
     "execution_count": 3,
     "metadata": {},
     "output_type": "execute_result"
    }
   ],
   "source": [
    "aleatori('acgt', 10)"
   ]
  },
  {
   "cell_type": "markdown",
   "metadata": {
    "colab_type": "text",
    "id": "cjQgFvF77us9"
   },
   "source": [
    "<p class=\"exercici\">Exercici 3: Nombres narcisistes</p>\n",
    "\n",
    "Escriu un programa que verifiqui si un nombre és narcisista. Diem que un nombre és narcisista si és la suma dels seus dígits, cadascun elevat a la potència del nombre de dígits que té.\n",
    "\n",
    "Exemple: 153 és narcisista perquè\n",
    "    $153 = 1^3 + 5^3 + 3^3 = 1 + 125 + 27$\n",
    "    \n",
    "Font: Adaptat de [Checking for Narcissism in Numbers / Vanessa Osuka](https://code.likeagirl.io/algorithm-part-1-checking-for-narcissism-of-a-number-python-cbea596b2790)"
   ]
  },
  {
   "cell_type": "code",
   "execution_count": 6,
   "metadata": {},
   "outputs": [
    {
     "name": "stdout",
     "output_type": "stream",
     "text": [
      "es narcicista\n"
     ]
    }
   ],
   "source": [
    "def narcicista(n):\n",
    "    cadena = str(n)\n",
    "    total = 0\n",
    "    potencia = len(cadena)\n",
    "    \n",
    "    for x in cadena:\n",
    "        x = int(x)\n",
    "        prod = x ** potencia\n",
    "        total += prod\n",
    "    if total == n:\n",
    "        print(\"es narcicista\")\n",
    "    else:\n",
    "        print(\"no ho es\")\n",
    "narcicista(153)"
   ]
  },
  {
   "cell_type": "markdown",
   "metadata": {
    "colab_type": "text",
    "id": "g0DR2ign7us-"
   },
   "source": [
    "<p class=\"exercici\">Exercici 4: Pedra, paper, tisores</p>\n",
    "\n",
    "Escriu una funcio que permeti a dos jugadors jugar al Pedra-Paper-Tisores. Recorda que:\n",
    "+ La pedra guanya les tisores\n",
    "+ Les tisores guanyen el paper\n",
    "+ El paper guanya la pedra\n",
    "\n",
    "Font: Adaptat de [Practice Python. Beginner Python exercises / Michele Pratusevich](http://www.practicepython.org)"
   ]
  },
  {
   "cell_type": "code",
   "execution_count": 7,
   "metadata": {},
   "outputs": [
    {
     "name": "stdout",
     "output_type": "stream",
     "text": [
      "Escull entre pedra, paper o tisores jugador 1:paper\n",
      "Escull entre pedra paper o tisores jugador 2paper\n",
      "Empat\n"
     ]
    }
   ],
   "source": [
    "def jugar():\n",
    "    u1 = input(\"Escull entre pedra, paper o tisores jugador 1:\")\n",
    "    u2 = input(\"Escull entre pedra paper o tisores jugador 2: \")\n",
    "    \n",
    "    if u1 == u2:\n",
    "        print(\"Empat\")\n",
    "        \n",
    "    elif u1 == \"pedra\":\n",
    "        if u2 == \"paper\":\n",
    "            print(\"Ha guanyat el jugador 2 amb paper\")\n",
    "        else:\n",
    "            print(\"Ha guanyat el jugador 1 amb pedra\")\n",
    "    elif u1 == \"paper\":\n",
    "        if u2 == \"tisores\":\n",
    "            print(\"Ha guanyat el jugador 2 tisores\")\n",
    "        else:\n",
    "            print(\"Ha guanyat el jugador 1 amb paper\")\n",
    "    elif u1 == \"tisores\":\n",
    "        if u2 == \"pedra\":\n",
    "            print(\"Ha guanyat el jugador 2 amb pedra\")\n",
    "        else:\n",
    "            print(\"Ha guanyat el jugador 1 amb tisores\")\n",
    "jugar()    "
   ]
  },
  {
   "cell_type": "code",
   "execution_count": 8,
   "metadata": {},
   "outputs": [
    {
     "name": "stdout",
     "output_type": "stream",
     "text": [
      "Escull entre pedra, paper o tisores jugador 1:pedra\n",
      "Escull entre pedra paper o tisores jugador 2paper\n",
      "Ha guanyat el jugador 2 amb paper\n"
     ]
    }
   ],
   "source": [
    "jugar()"
   ]
  },
  {
   "cell_type": "markdown",
   "metadata": {
    "colab_type": "text",
    "id": "ioSEv0DP7us-"
   },
   "source": [
    "<p class=\"exercici\">Exercici 5: Endevina el nombre</p>\n",
    "\n",
    "Genera un nombre aleatori entre 1 i 9 (inclosos). Demana a l'usuari que l'encerti, i digues-li si ha dit un nombre massa petit, massa gran o l'ha encertat. Segueix fins que l'usuari entri el nombre 'exit', i emmagatzema el nombre d'intents de l'usuari, que mostraràs al finalitzar.\n",
    "\n",
    "Font: Adaptat de [Practice Python. Beginner Python exercises / Michele Pratusevich](http://www.practicepython.org)"
   ]
  },
  {
   "cell_type": "code",
   "execution_count": 12,
   "metadata": {},
   "outputs": [
    {
     "name": "stdout",
     "output_type": "stream",
     "text": [
      "Introdueix un numero entre l'1 i el 9: 1\n",
      "Massa petit\n",
      "Introdueix un numero entre l'1 i el 9: 5\n",
      "Massa gran\n",
      "Introdueix un numero entre l'1 i el 9: 2\n",
      "Massa petit\n",
      "Introdueix un numero entre l'1 i el 9: 3\n",
      "l'has encertat amb  4 intents! El numero era 3\n"
     ]
    }
   ],
   "source": [
    "import random\n",
    "def endevinar():\n",
    "    num = random.randint(1,9)\n",
    "    a = int(input(\"Introdueix un numero entre l'1 i el 9: \"))\n",
    "    intents = 1\n",
    "    \n",
    "    while a != num:\n",
    "        if a < num:\n",
    "            print(\"Massa petit\")\n",
    "            intents += 1\n",
    "        else: \n",
    "            print(\"Massa gran\") \n",
    "            intents += 1\n",
    "        a = int(input(\"Introdueix un numero entre l'1 i el 9: \"))\n",
    "    print(\"l'has encertat amb \", intents, \"intents! El numero era\", num)\n",
    "endevinar()"
   ]
  },
  {
   "cell_type": "code",
   "execution_count": null,
   "metadata": {
    "colab": {},
    "colab_type": "code",
    "id": "OnsGBjOS7us_",
    "outputId": "0ada6bf8-6d05-4917-dc70-6f820f798f50"
   },
   "outputs": [
    {
     "data": {
      "text/html": [
       "<style><style>\n",
       "\n",
       "@import url('http://fonts.googleapis.com/css?family=Source+Code+Pro');\n",
       "@import url('http://fonts.googleapis.com/css?family=Lora');\n",
       "\n",
       "/*   adapted from https://github.com/edwardtufte/et-book/blob/gh-pages/et-book.css */\n",
       "\n",
       "@charset \"UTF-8\";\n",
       "\n",
       "@font-face {\n",
       "  font-family: \"et-book\";\n",
       "  src: url(\"et-book/roman-line-figures.ttf\") format(\"truetype\");\n",
       "  font-weight: normal;\n",
       "  font-style: normal\n",
       "}\n",
       "\n",
       "@font-face {\n",
       "  font-family: \"et-book\";\n",
       "  src: url(\"et-book/display-italic-old-style-figures.ttf\") format(\"truetype\");\n",
       "  font-weight: normal;\n",
       "  font-style: italic\n",
       "}\n",
       "\n",
       "@font-face {\n",
       "  font-family: \"et-book\";\n",
       "  src: url(\"et-book/bold-line-figures.ttf\") format(\"truetype\");\n",
       "  font-weight: bold;\n",
       "  font-style: normal\n",
       "}\n",
       "\n",
       "@font-face {\n",
       "  font-family: \"et-book-roman-old-style\";\n",
       "  src: url(\"et-book/roman-old-style-figures.ttf\") format(\"truetype\");\n",
       "  font-weight: normal;\n",
       "  font-style: normal;\n",
       "}\n",
       "\n",
       "html {\n",
       "       font-size: 15px !important;\n",
       "}\n",
       "\n",
       ".tema, h1 span { font-size: 14pt;\n",
       "\tfont-style: italic;\n",
       "\tfont-weight: 100;}\n",
       "\n",
       "#capcalera {\tfont-family:Arial;\n",
       "\t\tfont-size:12pt;\n",
       "\t\tbackground-color:#fff1f1;\n",
       "\t\tpadding:5px;\n",
       "\t\t}\n",
       "#peu {\tfont-family:Arial;\n",
       "\tfont-size:12pt;\n",
       "\tbackground-color:#fff1f1;\n",
       "\tpadding:2px;\n",
       "\tline-height:1}\n",
       "\n",
       ".exercici {color:#a60d0d;\n",
       "\t   /* border-width:0 0 2px 2px !important;\n",
       "\t   border-style:solid !important;\n",
       "\t   border-color:#5e3333 !important; */ }\n",
       "\n",
       ".explicacio {}\n",
       "\n",
       ".avaluacio {}\n",
       "\n",
       "\n",
       "#notebook-container, .notebook_cell_list {\n",
       "       font-size: 1rem !important;\n",
       "       line-height: 1.5 !important;\n",
       "       width: 100%  !important;\n",
       "       margin-left: auto !important;\n",
       "       margin-right: auto !important;\n",
       "       padding-left: 12.5% !important;\n",
       "       font-family: et-book, Palatino, \"Palatino Linotype\", \"Palatino LT STD\", \"Book Antiqua\", Georgia, serif  !important;\n",
       "       background-color: #fffff8 !important;\n",
       "       color: #111 !important;\n",
       "       max-width: 1400px !important; }\n",
       "\n",
       " .rendered .input_prompt {\n",
       "\t min-width:0 !important; } \n",
       "\n",
       ".text_cell_render h1, .markdown h1 { \n",
       "     font-weight: 400;\n",
       "     font-style: normal;\n",
       "     margin-top: 0rem;\n",
       "     margin-bottom: 0rem;\n",
       "     font-size: 2rem; }\n",
       "\n",
       " .text_cell_render h2 { font-style: italic;\n",
       "     font-weight: 400;\n",
       "     font-size: 1.5rem;\n",
       "     margin-top: 1.5rem;\n",
       "     margin-bottom: 1.5em; }\n",
       "\n",
       " .text_cell_render h3 { font-style: italic;\n",
       "             font-weight: 400;\n",
       "             margin-top: 1rem;\n",
       "             margin-bottom: 1rem;\n",
       "             font-size: 1.2rem;\n",
       "             display: block; }\n",
       "\n",
       " .text_cell_render h4 {\n",
       "    font-size: 1.1rem;\n",
       "    font-weight: 400;\n",
       "    margin: 1rem auto; }\n",
       "\n",
       ".rendered_html p { \n",
       "\tfont-size: 1rem !important; \n",
       "    \tmargin-top: 1rem !important;;\n",
       "    \tmargin-bottom: 1rem !important;;\n",
       "    \tpadding-right: 0 !important;;\n",
       "    \tvertical-align: baseline !important;; }\n",
       "\n",
       ".rendered_html blockquote { font-size: 1.1rem !important;}\n",
       "\n",
       ".rendered_html ol, ul { width: 75% !important;; }\n",
       "\n",
       ".rendered_html li { padding: 0.5rem 0 !important;; }\n",
       "\n",
       ".rendered_html table {\n",
       "  border-top: 2px solid #111 !important;\n",
       "  border-bottom: 2px solid #111 !important;\n",
       "  font-size: 0.8rem !important;\n",
       "}\n",
       "\n",
       ".rendered_html th {\n",
       "  border-bottom: 1px solid #111 !important;\n",
       "}\n",
       "\t \n",
       ".rendered_html a { text-decoration: none !important;\n",
       "         background: linear-gradient(#fffff8, #fffff8), linear-gradient(#fffff8, #fffff8), linear-gradient(#333, #333);\n",
       "         background-size: 0.05em 1px, 0.05em 1px, 1px 1px;\n",
       "         background-repeat: no-repeat, no-repeat, repeat-x;\n",
       "         text-shadow: 0.03em 0 #fffff8, -0.03em 0 #fffff8, 0 0.03em #fffff8, 0 -0.03em #fffff8, 0.06em 0 #fffff8, -0.06em 0 #fffff8, 0.09em 0 #fffff8, -0.09em 0 #fffff8, 0.12em 0 #fffff8, -0.12em 0 #fffff8, 0.15em 0 #fffff8, -0.15em 0 #fffff8;\n",
       "         background-position: 0% 93%, 100% 93%, 0% 93%; }\n",
       "\n",
       ".rendered_html a:link::selection { text-shadow: 0.03em 0 #b4d5fe, -0.03em 0 #b4d5fe, 0 0.03em #b4d5fe, 0 -0.03em #b4d5fe, 0.06em 0 #b4d5fe, -0.06em 0 #b4d5fe, 0.09em 0 #b4d5fe, -0.09em 0 #b4d5fe, 0.12em 0 #b4d5fe, -0.12em 0 #b4d5fe, 0.15em 0 #b4d5fe, -0.15em 0 #b4d5fe;\n",
       "                    background: #b4d5fe; }\n",
       " \n",
       ".rendered_html pre { \n",
       "\tborder:1px solid #cccccc !important; }\n",
       "\n",
       ".rendered_html * code { \n",
       "\tfont-size: 1rem !important;\n",
       "        line-height: 1.5 !important;\n",
       "\tfont-family: Consolas, \"Liberation Mono\", Menlo, Courier, monospace !important;\n",
       "\tbackground-color: #fff !important }\n",
       "</style> \n",
       "<script>\n",
       "    MathJax.Hub.Config({\n",
       "                        TeX: {\n",
       "                           extensions: [\"AMSmath.js\"],\n",
       "                           equationNumbers: { autoNumber: \"AMS\", useLabelIds: true}\n",
       "                           },\n",
       "                tex2jax: {\n",
       "                    inlineMath: [ ['$','$'], [\"\\\\(\",\"\\\\)\"] ],\n",
       "                    displayMath: [ ['$$','$$'], [\"\\\\[\",\"\\\\]\"] ]\n",
       "                },\n",
       "                displayAlign: 'center', // Change this to 'center' to center equations.\n",
       "                \"HTML-CSS\": {\n",
       "                    scale: 95,\n",
       "                        availableFonts: [],\n",
       "                        preferredFont:null,\n",
       "                        webFont: \"TeX\",\n",
       "                    styles: {'.MathJax_Display': {\"margin\": 4}}\n",
       "                },\n",
       "                 \"fast-preview\": {\n",
       "                    \"disabled\": false\n",
       "                }\n",
       "        });\n",
       "</script>\n",
       "</style>"
      ],
      "text/plain": [
       "<IPython.core.display.HTML object>"
      ]
     },
     "execution_count": 1,
     "metadata": {
      "tags": []
     },
     "output_type": "execute_result"
    }
   ],
   "source": [
    "# Executar aquesta cel.la per donar estil al notebook\n",
    "from IPython.core.display import HTML\n",
    "import requests\n",
    "style=requests.get('https://raw.githubusercontent.com/algorismica2019/problemes/master/assets/prova.css').text\n",
    "HTML('<style>{}</style>'.format(style))"
   ]
  },
  {
   "cell_type": "markdown",
   "metadata": {
    "colab_type": "text",
    "id": "hzL3PJ4g7utE"
   },
   "source": [
    "<div id=\"peu\">\n",
    "<p><a href=\"https://colab.research.google.com/github/algorismica2019/problemes/blob/master/BasicsControl.ipynb\"><img style=\"margin:-10px 10px 20px 0\" width=\"150px\" align=\"right\" src=\"https://raw.githubusercontent.com/algorismica2019/problemes/master/assets/colab-badge.png?raw=1\" alt=\"Obrir a Colab\" title=\"Obrir i executar a Google Colaboratory\"></a></p>\n",
    "<p style=\"clear:both;text-align:center\">&lt; <a href=\"BasicsCadenes.ipynb\">Bàsics cadenes </a> | <a href=\"Basics.ipynb\">Problemes Bàsics de Python</a> | <a href=\"LListatProblemes.ipynb\">LListat de problemes general</a> | <a href=\"BasicsLListes.ipynb\">Bàsics Llistes</a> &gt; </p>\n",
    "</div>"
   ]
  }
 ],
 "metadata": {
  "colab": {
   "name": "BasicsControl.ipynb",
   "provenance": []
  },
  "kernelspec": {
   "display_name": "Python 3",
   "language": "python",
   "name": "python3"
  },
  "language_info": {
   "codemirror_mode": {
    "name": "ipython",
    "version": 3
   },
   "file_extension": ".py",
   "mimetype": "text/x-python",
   "name": "python",
   "nbconvert_exporter": "python",
   "pygments_lexer": "ipython3",
   "version": "3.6.5"
  }
 },
 "nbformat": 4,
 "nbformat_minor": 1
}
