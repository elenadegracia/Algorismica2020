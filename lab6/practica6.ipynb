{
 "cells": [
  {
   "cell_type": "markdown",
   "metadata": {},
   "source": [
    "# PRÀCTICA 6 "
   ]
  },
  {
   "cell_type": "markdown",
   "metadata": {},
   "source": [
    "## 3.6 Aritmètica modular"
   ]
  },
  {
   "cell_type": "code",
   "execution_count": 1,
   "metadata": {},
   "outputs": [],
   "source": [
    "def validar_NIF(cadenaNIF):\n",
    "    dic = {'0': 'T', '1':'R', '2':'W', '3':'A', '4':'G', '5':'M', '6':'Y', '7':'F', '8':'P', '9':'D', '10':'X','11':'B', '12':'N',\n",
    "           '13':'J', '14':'Z', '15':'S', '16':'Q', '17':'V', '18':'H', '19':'L', '20':'C', '21':'K', '22':'E'}\n",
    "    numeros = cadenaNIF[:-1]\n",
    "    lletra = cadenaNIF[-1]\n",
    "    residu = int(numeros) % 23\n",
    "    \n",
    "    if lletra == dic[str(residu)]:\n",
    "        es_correcte = True\n",
    "    else:\n",
    "        es_correcte = False\n",
    "    return es_correcte\n",
    "#complexitat O(n)"
   ]
  },
  {
   "cell_type": "code",
   "execution_count": 2,
   "metadata": {},
   "outputs": [
    {
     "data": {
      "text/plain": [
       "(True, False)"
      ]
     },
     "execution_count": 2,
     "metadata": {},
     "output_type": "execute_result"
    }
   ],
   "source": [
    "validar_NIF('56789123F'), validar_NIF('56789123H')"
   ]
  },
  {
   "cell_type": "code",
   "execution_count": 3,
   "metadata": {},
   "outputs": [],
   "source": [
    "assert validar_NIF('56789123F') == True\n",
    "assert validar_NIF('56789123H') == False"
   ]
  },
  {
   "cell_type": "code",
   "execution_count": 4,
   "metadata": {},
   "outputs": [
    {
     "data": {
      "text/plain": [
       "('ALL', 'DC')"
      ]
     },
     "execution_count": 4,
     "metadata": {},
     "output_type": "execute_result"
    }
   ],
   "source": [
    "def conversio_fulla_calcul(num):\n",
    "    col = ''\n",
    "    \n",
    "    while num > 0:\n",
    "        residu = (num - 1) % 26\n",
    "        col += chr(residu + 65)\n",
    "        num = (num - 1) // 26\n",
    "        columna = ''.join(reversed(col))\n",
    "    \n",
    "    return columna\n",
    "conversio_fulla_calcul(1000), conversio_fulla_calcul(107) \n",
    "\n",
    "#complexitat O(n)"
   ]
  },
  {
   "cell_type": "code",
   "execution_count": 5,
   "metadata": {},
   "outputs": [],
   "source": [
    "assert conversio_fulla_calcul(1000) == 'ALL'"
   ]
  },
  {
   "cell_type": "code",
   "execution_count": 6,
   "metadata": {},
   "outputs": [],
   "source": [
    "assert conversio_fulla_calcul(107) == 'DC'"
   ]
  },
  {
   "cell_type": "markdown",
   "metadata": {},
   "source": [
    "## 3.8 Primeritat"
   ]
  },
  {
   "cell_type": "code",
   "execution_count": 17,
   "metadata": {},
   "outputs": [
    {
     "data": {
      "text/plain": [
       "11"
      ]
     },
     "execution_count": 17,
     "metadata": {},
     "output_type": "execute_result"
    }
   ],
   "source": [
    "from math import sqrt\n",
    "\n",
    "def eratostenes(n) :\n",
    "    llista_primers = [i for i in range(2, n + 1)]\n",
    "    d=0\n",
    "    while llista_primers[d] ** 2 < n:\n",
    "        for j in llista_primers:\n",
    "            if j != llista_primers[d]:\n",
    "                if j % llista_primers[d] == 0:\n",
    "                    llista_primers.remove(j)\n",
    "        d += 1\n",
    "    return llista_primers\n",
    "#O(n log n)\n",
    "\n",
    "def primer(n):\n",
    "    i = 3\n",
    "    enessim_primer = 2\n",
    "    contador = 1  # contem el 2 i comencen pel 3 per incremenar \"i\" 2\n",
    "    while contador < n:\n",
    "        if enessim_primer in eratostenes(i):\n",
    "            contador += 1\n",
    "            ennessim_primer = i\n",
    "        i += 2\n",
    "        # no es possible que dos primers siguin consecutius a partir de 3\n",
    "    return ennessim_primer\n",
    "#complexitat algorisme O(n^2 log n)\n",
    "primer(6)"
   ]
  },
  {
   "cell_type": "code",
   "execution_count": 7,
   "metadata": {},
   "outputs": [
    {
     "data": {
      "text/plain": [
       "6857"
      ]
     },
     "execution_count": 7,
     "metadata": {},
     "output_type": "execute_result"
    }
   ],
   "source": [
    "def factor_primer_mes_gran(n):\n",
    "    i = 3\n",
    "    inicio = n\n",
    "    factor = 0\n",
    "    producte = 1\n",
    "    while producte < inicio:\n",
    "        if esPrimer(i) and n % i == 0:\n",
    "            n = n // i\n",
    "            factor = i\n",
    "            producte *= i\n",
    "        i += 2\n",
    "    return factor\n",
    "\n",
    "def esPrimer(n):\n",
    "    for i in range(2, n):\n",
    "        if (n % i) == 0:\n",
    "            b =  False\n",
    "            break\n",
    "        else:\n",
    "            b = True\n",
    "    return b\n",
    "factor_primer_mes_gran( 600851475143)  \n",
    "# complexitat O(log n)"
   ]
  },
  {
   "cell_type": "code",
   "execution_count": 8,
   "metadata": {},
   "outputs": [],
   "source": [
    "assert factor_primer_mes_gran(600851475143) == 6857"
   ]
  },
  {
   "cell_type": "markdown",
   "metadata": {},
   "source": [
    "## 3.9 Primeritat i el teorema de Fermat"
   ]
  },
  {
   "cell_type": "code",
   "execution_count": 9,
   "metadata": {},
   "outputs": [],
   "source": [
    "def generate_prime(n):\n",
    "    found_prime = False\n",
    "    while not found_prime:\n",
    "    # genera un nombre aleatori de n bits\n",
    "        p = randint(2**(n-1),2**n)\n",
    "        if fermat(p,20):\n",
    "            return p"
   ]
  },
  {
   "cell_type": "code",
   "execution_count": 10,
   "metadata": {},
   "outputs": [
    {
     "data": {
      "text/plain": [
       "[1093, 3511]"
      ]
     },
     "execution_count": 10,
     "metadata": {},
     "output_type": "execute_result"
    }
   ],
   "source": [
    "from random import randint\n",
    "def fermat(num, k):\n",
    "    if num == 1:\n",
    "        return False\n",
    "    for x in range(k):\n",
    "        val = randint(1, num -1)\n",
    "        if pow(val, num - 1, num) != 1:\n",
    "            return False\n",
    "    return True\n",
    "#O(n)\n",
    "def Wieferich(num):\n",
    "    if pow(2, num-1, num * num) == 1:  # pow(x, y, z) = x^y % z\n",
    "            return True\n",
    "    return False\n",
    "#O(1)\n",
    "def primers_Wieferich(n = 5000):\n",
    "    wieferichs = [i for i in range(2, n) if Wieferich(i) and fermat(i, 20)]\n",
    "    return wieferichs\n",
    "# complexitat algorisme O(n^2)\n",
    "primers_Wieferich(5000)"
   ]
  },
  {
   "cell_type": "code",
   "execution_count": 11,
   "metadata": {},
   "outputs": [],
   "source": [
    "assert primers_Wieferich(n = 5000) == [1093,3511]"
   ]
  },
  {
   "cell_type": "code",
   "execution_count": 3,
   "metadata": {},
   "outputs": [],
   "source": [
    "import time \n",
    "import math\n",
    "from random import randint\n",
    "\n",
    "def factorp(n):\n",
    "\n",
    "    for i in range(2, 1 + int(pow(n, 1 / 2))):\n",
    "        if n % i == 0:\n",
    "            \n",
    "            return False\n",
    "\n",
    "    return True\n",
    "# complexitat algorisme O(n)\n",
    "def fermatp(num, a = [2, 3, 5]):\n",
    "  \n",
    "    if num == 1:\n",
    "        return False\n",
    "    for x in a:\n",
    "        val = randint(1, num-1)             \n",
    "        if pow(val, num-1, num) != 1:        \n",
    "            return False                    \n",
    "    return True\n",
    "#complexitat algorisme O(n)"
   ]
  },
  {
   "cell_type": "code",
   "execution_count": 4,
   "metadata": {},
   "outputs": [
    {
     "data": {
      "text/plain": [
       "(True, False)"
      ]
     },
     "execution_count": 4,
     "metadata": {},
     "output_type": "execute_result"
    }
   ],
   "source": [
    "factorp(12), fermatp(12)"
   ]
  },
  {
   "cell_type": "code",
   "execution_count": 14,
   "metadata": {},
   "outputs": [
    {
     "name": "stdout",
     "output_type": "stream",
     "text": [
      "5.28 µs ± 297 ns per loop (mean ± std. dev. of 7 runs, 100000 loops each)\n"
     ]
    }
   ],
   "source": [
    "%timeit fermatp(12)"
   ]
  },
  {
   "cell_type": "code",
   "execution_count": 15,
   "metadata": {},
   "outputs": [
    {
     "name": "stdout",
     "output_type": "stream",
     "text": [
      "1.64 µs ± 39.2 ns per loop (mean ± std. dev. of 7 runs, 1000000 loops each)\n"
     ]
    }
   ],
   "source": [
    "%timeit factorp(12)"
   ]
  },
  {
   "cell_type": "code",
   "execution_count": 16,
   "metadata": {},
   "outputs": [],
   "source": [
    "assert factorp(12) == False\n",
    "assert fermatp(12) == False"
   ]
  },
  {
   "cell_type": "code",
   "execution_count": null,
   "metadata": {},
   "outputs": [],
   "source": []
  }
 ],
 "metadata": {
  "kernelspec": {
   "display_name": "Python 3",
   "language": "python",
   "name": "python3"
  },
  "language_info": {
   "codemirror_mode": {
    "name": "ipython",
    "version": 3
   },
   "file_extension": ".py",
   "mimetype": "text/x-python",
   "name": "python",
   "nbconvert_exporter": "python",
   "pygments_lexer": "ipython3",
   "version": "3.6.5"
  }
 },
 "nbformat": 4,
 "nbformat_minor": 2
}
