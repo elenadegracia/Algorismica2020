{
 "cells": [
  {
   "cell_type": "markdown",
   "metadata": {},
   "source": [
    "# 1.1 Notació Gran O"
   ]
  },
  {
   "cell_type": "markdown",
   "metadata": {},
   "source": [
    "###### 1. Segons les indicacions donades anteriorment, calcula l'ordre de complexitat segons la notació  gran O d'uns algorismes que fan el següent nombre d'operacions:"
   ]
  },
  {
   "cell_type": "markdown",
   "metadata": {},
   "source": [
    "\u000f n + 2n --> O(n)"
   ]
  },
  {
   "cell_type": "markdown",
   "metadata": {},
   "source": [
    "\u000f 3n^2 + log n  -->O(n^2)\n"
   ]
  },
  {
   "cell_type": "markdown",
   "metadata": {},
   "source": [
    "\u000f 2^n + n^5  --> O(2^n)\n"
   ]
  },
  {
   "cell_type": "markdown",
   "metadata": {},
   "source": [
    "\u000f n^3 + n^2 log(n) + n + 5 -->O(n^3)"
   ]
  },
  {
   "cell_type": "markdown",
   "metadata": {},
   "source": [
    "###### 2. Té sentit un algorisme de complexitat O(n!) per n = 50? Per què?"
   ]
  },
  {
   "cell_type": "markdown",
   "metadata": {},
   "source": [
    "No té sentit ja que qualsevol algorisme amb complexitat O(n!) és inútil a partir de n = 20"
   ]
  },
  {
   "cell_type": "markdown",
   "metadata": {},
   "source": [
    "###### 3. Calcula la complexitat total d'aquests codis d'exemple"
   ]
  },
  {
   "cell_type": "code",
   "execution_count": null,
   "metadata": {},
   "outputs": [],
   "source": [
    "def codi1():\n",
    "    op1 # Complexitat O(1)\n",
    "    op2 # Complexitat O(n)\n",
    "    for i in range(0, n): #O(n)\n",
    "        op3 # Complexitat O(n)\n",
    "        if cond:\n",
    "            op4 # Complexitat O(n)\n",
    "        else:\n",
    "            op5 # Complexitat O(n^2)"
   ]
  },
  {
   "cell_type": "markdown",
   "metadata": {},
   "source": [
    "complexitat abans del for = 1 + n => O(n)\n",
    "la complexitat del condicional és n + n^2 => O(n^2)\n",
    "complexitat del bucle for = O(n) * O(n^2) = O(n^3)\n",
    "\n",
    "Complexitat codi = O(n^3)"
   ]
  },
  {
   "cell_type": "code",
   "execution_count": null,
   "metadata": {},
   "outputs": [],
   "source": [
    "def codi2():\n",
    "    for i in range(0,2*n): # O(n)\n",
    "        for j in range(0, n*n): # O(n^2)\n",
    "            op1 # Complexitat O(n)"
   ]
  },
  {
   "cell_type": "markdown",
   "metadata": {},
   "source": [
    "complexitat codi : O(n^4) "
   ]
  },
  {
   "cell_type": "markdown",
   "metadata": {},
   "source": [
    "# 3.1 Divisió entera"
   ]
  },
  {
   "cell_type": "markdown",
   "metadata": {},
   "source": [
    "###### 1. Escriu una funció que faci la divisió entera entre dos nombres enters, positius i més grans que 1. No utilitzis els operadors *, /, % per a resoldre el problema."
   ]
  },
  {
   "cell_type": "code",
   "execution_count": 11,
   "metadata": {},
   "outputs": [
    {
     "data": {
      "text/plain": [
       "(5, 4)"
      ]
     },
     "execution_count": 11,
     "metadata": {},
     "output_type": "execute_result"
    }
   ],
   "source": [
    "def divisio_entera(dividend, divisor):\n",
    "    quocient = 0\n",
    "\n",
    "    if dividend and divisor > 1:\n",
    "        \n",
    "        while (dividend > 1):\n",
    "            dividend -= divisor\n",
    "            quocient += 1\n",
    "        \n",
    "    else:\n",
    "        print(\"Els nombres han de ser més grans que 1\")\n",
    "    \n",
    "    return quocient\n",
    "divisio_entera(10, 2),divisio_entera(9, 2)"
   ]
  },
  {
   "cell_type": "code",
   "execution_count": 12,
   "metadata": {},
   "outputs": [],
   "source": [
    "assert divisio_entera(10,2) == 5\n",
    "assert divisio_entera(9,2) == 4"
   ]
  },
  {
   "cell_type": "markdown",
   "metadata": {},
   "source": [
    "# 3.2 MCD i les seves aplicacions"
   ]
  },
  {
   "cell_type": "code",
   "execution_count": 13,
   "metadata": {},
   "outputs": [
    {
     "data": {
      "text/plain": [
       "21"
      ]
     },
     "execution_count": 13,
     "metadata": {},
     "output_type": "execute_result"
    }
   ],
   "source": [
    "def gcd(a,b):\n",
    "    while a:\n",
    "        a,b = b%a, a\n",
    "    return b\n",
    "gcd(1071, 462)"
   ]
  },
  {
   "cell_type": "markdown",
   "metadata": {},
   "source": [
    "###### 1. Fent servir l'algorisme anterior, escriu una funció  que simplifiqui una fracció a la seva expressió irreductible. Recorda que una fracció irreductible és una fracció en la qual el numerador i el denominador no tenen cap divisor comú.\n"
   ]
  },
  {
   "cell_type": "code",
   "execution_count": 28,
   "metadata": {},
   "outputs": [
    {
     "data": {
      "text/plain": [
       "4"
      ]
     },
     "execution_count": 28,
     "metadata": {},
     "output_type": "execute_result"
    }
   ],
   "source": [
    "def gcd(a,b):\n",
    "    while a:\n",
    "        a,b = b%a, a\n",
    "    return b\n",
    "gcd(12 , 8)"
   ]
  },
  {
   "cell_type": "code",
   "execution_count": 32,
   "metadata": {},
   "outputs": [
    {
     "data": {
      "text/plain": [
       "(3, 2)"
      ]
     },
     "execution_count": 32,
     "metadata": {},
     "output_type": "execute_result"
    }
   ],
   "source": [
    "def gcd(a,b):\n",
    "    \"\"\"Aquesta funció retorna el MCD\"\"\"\n",
    "    while a:\n",
    "        a,b = b%a, a\n",
    "    return b\n",
    "\n",
    "def reduir_fraccio(numerador, denominador):\n",
    "    \"\"\"Aquesta funció retorna la fracció irreductible\"\"\"\n",
    "    \n",
    "    i = numerador\n",
    "    numReduit = numerador\n",
    "    denReduit= denominador\n",
    "  \n",
    "    while gcd(numReduit, denReduit) != 1:\n",
    "        numReduit = numReduit // gcd(numReduit, denReduit)\n",
    "        denReduit = denReduit // gcd(i, denReduit)\n",
    "        i = numReduit\n",
    "            \n",
    "    return (numReduit, denReduit)\n",
    "reduir_fraccio(12, 8)          "
   ]
  },
  {
   "cell_type": "code",
   "execution_count": 33,
   "metadata": {},
   "outputs": [
    {
     "data": {
      "text/plain": [
       "(127, 63)"
      ]
     },
     "execution_count": 33,
     "metadata": {},
     "output_type": "execute_result"
    }
   ],
   "source": [
    "reduir_fraccio(127,63)"
   ]
  },
  {
   "cell_type": "code",
   "execution_count": 24,
   "metadata": {},
   "outputs": [],
   "source": [
    "assert reduir_fraccio(12, 8) == (3,2)"
   ]
  },
  {
   "cell_type": "markdown",
   "metadata": {},
   "source": [
    "# 3.5 Operacions amb nombres binaris"
   ]
  },
  {
   "cell_type": "markdown",
   "metadata": {},
   "source": [
    "###### 1. Determinar si un nombre és potència de 2 fent ús de les operacions binàries"
   ]
  },
  {
   "cell_type": "code",
   "execution_count": 19,
   "metadata": {},
   "outputs": [
    {
     "data": {
      "text/plain": [
       "(True, True, False)"
      ]
     },
     "execution_count": 19,
     "metadata": {},
     "output_type": "execute_result"
    }
   ],
   "source": [
    "def comprobar(num):\n",
    "    \"\"\"Aquesta funcio calcula si un nombre te tots els seus valors a 0 \"\"\"\n",
    "    \n",
    "    for i in num:\n",
    "        if i == \"1\":\n",
    "            return False\n",
    "    return True\n",
    "\n",
    "\n",
    "def potencia2(num):\n",
    "    \"\"\"Aquesta funcio calcula si un nombre es potencia de dos\"\"\"\n",
    "    \n",
    "    nombre = bin(num)[2:]\n",
    "    es_potencia = False\n",
    "    if nombre[0] == \"1\":\n",
    "        if comprobar(nombre[1:]):\n",
    "            es_potencia = True\n",
    "    return es_potencia\n",
    "\n",
    "potencia2(1024), potencia2(2**2345), potencia2(2**2345-1)"
   ]
  },
  {
   "cell_type": "code",
   "execution_count": 20,
   "metadata": {},
   "outputs": [],
   "source": [
    "assert potencia2(1024) == True\n",
    "assert potencia2(2**2345) == True\n",
    "assert potencia2(2**2345-1) == False"
   ]
  },
  {
   "cell_type": "code",
   "execution_count": null,
   "metadata": {},
   "outputs": [],
   "source": []
  }
 ],
 "metadata": {
  "kernelspec": {
   "display_name": "Python 3",
   "language": "python",
   "name": "python3"
  },
  "language_info": {
   "codemirror_mode": {
    "name": "ipython",
    "version": 3
   },
   "file_extension": ".py",
   "mimetype": "text/x-python",
   "name": "python",
   "nbconvert_exporter": "python",
   "pygments_lexer": "ipython3",
   "version": "3.6.5"
  }
 },
 "nbformat": 4,
 "nbformat_minor": 2
}
