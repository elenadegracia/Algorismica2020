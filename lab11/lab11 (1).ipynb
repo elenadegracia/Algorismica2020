{
 "cells": [
  {
   "cell_type": "markdown",
   "metadata": {},
   "source": [
    "# PRÀCTICA 11"
   ]
  },
  {
   "cell_type": "markdown",
   "metadata": {},
   "source": [
    "## 5.1 Suma d’una llista"
   ]
  },
  {
   "cell_type": "markdown",
   "metadata": {},
   "source": [
    "Escriu una funció recursiva que sumi tots els elements d'una llista."
   ]
  },
  {
   "cell_type": "code",
   "execution_count": 49,
   "metadata": {},
   "outputs": [
    {
     "data": {
      "text/plain": [
       "10"
      ]
     },
     "execution_count": 49,
     "metadata": {},
     "output_type": "execute_result"
    }
   ],
   "source": [
    "def suma_llista(llista):\n",
    "    #cas base:\n",
    "    if len(llista) == 1:\n",
    "        suma = llista[0]\n",
    "        return suma\n",
    "    else:\n",
    "        return llista[0] + suma_llista(llista[1:])\n",
    "\n",
    "suma_llista([1,2,3,4])\n",
    "\n",
    "#T(n)=aT(n/b)+O(n^d) a = 2, b = 2, d = 0\n",
    "#cas 3:  T(n)=O(n^logb(a) si d<logb(a), o el que és el mateix a>b^d => O(n^1) = O(n)\n",
    "#complexitat O(n)"
   ]
  },
  {
   "cell_type": "code",
   "execution_count": 50,
   "metadata": {},
   "outputs": [],
   "source": [
    "assert suma_llista([1,2,3,4]) == 10\n",
    "assert suma_llista([-1,-2,0,1,2]) == 0"
   ]
  },
  {
   "cell_type": "markdown",
   "metadata": {},
   "source": [
    "## 5.10 Comptador inversions en una llista"
   ]
  },
  {
   "cell_type": "markdown",
   "metadata": {},
   "source": [
    "Volem ordenar una llista A de nombres enters en ordre creixent. Escriu una funció que calculi el nombre d'inversions dins\n",
    "una llista i que digui quines són."
   ]
  },
  {
   "cell_type": "code",
   "execution_count": 3,
   "metadata": {},
   "outputs": [],
   "source": [
    "def comptador_inversions(llista):\n",
    "    \n",
    "    numInversions = 0\n",
    "    for i in range(len(llista)):\n",
    "        for j in range(i, len(llista)):\n",
    "            if llista[i] > llista[j]:\n",
    "                print((llista[i], llista[j]), end = \" \")\n",
    "                numInversions += 1\n",
    "\n",
    "    return numInversions"
   ]
  },
  {
   "cell_type": "code",
   "execution_count": 4,
   "metadata": {},
   "outputs": [
    {
     "name": "stdout",
     "output_type": "stream",
     "text": [
      "(3, 1) (3, 2) (5, 2) (5, 4) (7, 4) (8, 4) "
     ]
    }
   ],
   "source": [
    "assert comptador_inversions([3, 1, 5, 2, 7, 8, 4]) == 6"
   ]
  },
  {
   "cell_type": "markdown",
   "metadata": {},
   "source": [
    "## 5.22 Ordenar llista aparellada"
   ]
  },
  {
   "cell_type": "markdown",
   "metadata": {},
   "source": [
    "Fes un programa que ordeni una llista on els n\u0013umeros apareixen duplicats i un darrere l'altre."
   ]
  },
  {
   "cell_type": "markdown",
   "metadata": {},
   "source": [
    "###### mergesort"
   ]
  },
  {
   "cell_type": "code",
   "execution_count": 47,
   "metadata": {},
   "outputs": [
    {
     "name": "stdout",
     "output_type": "stream",
     "text": [
      "[0, 0, 1, 1, 3, 3, 5, 5]\n"
     ]
    }
   ],
   "source": [
    "def mergesort(list):\n",
    "    \n",
    "    if len(list) < 2:\n",
    "        return list\n",
    "    else:\n",
    "        middle = len(list) // 2\n",
    "        left = mergesort(list[:middle])\n",
    "        right = mergesort(list[middle:])\n",
    "        return merge(left, right)\n",
    "\n",
    "\n",
    "    \n",
    "def merge(left, right):\n",
    "    \n",
    "    result = []\n",
    "    i ,j = -1, -1\n",
    "    while(i < len(left) - 1 and j < len(right) - 1):\n",
    "        if (left[i + 1] <= right[j + 1]):\n",
    "            result.append(left[i + 1])\n",
    "            i = i + 1\n",
    "        else:\n",
    "            result.append(right[j + 1])\n",
    "            j = j + 1\n",
    "    result += left[i + 1:]\n",
    "    result += right[j + 1:]\n",
    "    return result\n",
    "\n",
    "def ordenar_parelles(llista):\n",
    "    \n",
    "    llista = mergesort(llista)\n",
    "    print(llista)\n",
    "   #print(mergesort(llista))\n",
    "\n",
    "ordenar_parelles([3,3,1,1,5,5,0,0])\n",
    "\n",
    "#complexitat O(n log n)"
   ]
  },
  {
   "cell_type": "markdown",
   "metadata": {},
   "source": [
    "###### quicksort"
   ]
  },
  {
   "cell_type": "code",
   "execution_count": 44,
   "metadata": {},
   "outputs": [],
   "source": [
    "def partition(A, first, last):\n",
    "\n",
    "    mid = (first + last)//2  \n",
    "    \n",
    "    # si la llista no te un numero parell d'elements\n",
    "    if mid % 2 != 0:\n",
    "            mid += 1\n",
    "            \n",
    "    if A[first] > A [mid]:\n",
    "        A[first + 1], A[mid +1 ] = A[mid + 1], A[first + 1]\n",
    "        A[first], A[mid] = A[mid], A[first]\n",
    "        \n",
    "    if A[first] > A [last]:\n",
    "        A[first], A[last - 1] = A[last - 1], A[first]\n",
    "        A[first + 1], A[last] = A[last], A[first + 1]\n",
    "        \n",
    "    if A[mid] > A[last]:\n",
    "        A[mid + 1], A[last] = A[last], A[mid + 1]  \n",
    "        A[mid], A[last - 1] = A[last - 1], A[mid] \n",
    "        \n",
    "    A[mid], A[first + 1] = A[first + 1], A[mid] #valor mig a l’inici\n",
    "    A[mid + 1], A[first] = A[first], A[mid + 1]\n",
    "    pivot = first\n",
    "    i = first + 2  \n",
    "    j = last\n",
    "  \n",
    "    while True:\n",
    "        while i <= last - 1 and A[i] <= A[pivot]: i += 2  # suma dos\n",
    "        while j >= first + 1 and A[j] > A[pivot]: j -= 2  # suma dos\n",
    "        if i >= j: break\n",
    "        else:\n",
    "            A[i], A[j - 1] = A[j - 1], A[i] #intercanviem, fem avançar i j\n",
    "            A[i + 1], A[j] = A[j], A[i + 1]  # perque esta repetit\n",
    "    A[j - 1], A[pivot] = A[pivot], A[j - 1] #vector partit, pivot=j\n",
    "    A[j], A[pivot + 1] = A[pivot + 1], A[j]\n",
    "    return j\n",
    "    \n",
    "\n",
    "def quick_sort_r(A , first, last):\n",
    "    \n",
    "    if last > first + 2:\n",
    "        pivot = partition(A, first, last)\n",
    "        quick_sort_r(A, first, pivot - 2)\n",
    "        quick_sort_r(A, pivot + 1, last)\n",
    "\n",
    "def ordenar_parelles(llista):\n",
    "    \n",
    "    quick_sort_r(llista, 0, len(llista) - 1)\n",
    "    print(llista)  \n",
    "    \n",
    "# complexitat O(n log n)"
   ]
  },
  {
   "cell_type": "code",
   "execution_count": 45,
   "metadata": {},
   "outputs": [
    {
     "name": "stdout",
     "output_type": "stream",
     "text": [
      "[0, 0, 1, 1, 3, 3, 5, 5]\n"
     ]
    }
   ],
   "source": [
    "ordenar_parelles([3,3,1,1,5,5,0,0])"
   ]
  },
  {
   "cell_type": "code",
   "execution_count": null,
   "metadata": {},
   "outputs": [],
   "source": []
  }
 ],
 "metadata": {
  "kernelspec": {
   "display_name": "Python 3",
   "language": "python",
   "name": "python3"
  },
  "language_info": {
   "codemirror_mode": {
    "name": "ipython",
    "version": 3
   },
   "file_extension": ".py",
   "mimetype": "text/x-python",
   "name": "python",
   "nbconvert_exporter": "python",
   "pygments_lexer": "ipython3",
   "version": "3.6.5"
  }
 },
 "nbformat": 4,
 "nbformat_minor": 2
}
