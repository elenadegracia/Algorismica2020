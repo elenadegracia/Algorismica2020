{
 "cells": [
  {
   "cell_type": "markdown",
   "metadata": {},
   "source": [
    "# PRÀCTICA 4"
   ]
  },
  {
   "cell_type": "markdown",
   "metadata": {},
   "source": [
    "## 3.3 Numeració en diferents bases"
   ]
  },
  {
   "cell_type": "markdown",
   "metadata": {},
   "source": [
    "Escriu una funció que donat un nombre en hexadecimal (base 16) el converteixi a nombre decimal (base 10). "
   ]
  },
  {
   "cell_type": "code",
   "execution_count": 1,
   "metadata": {},
   "outputs": [],
   "source": [
    "import math \n",
    "def convert_hex(xifra):\n",
    "    \n",
    "    #xifra_reverse = xifra[:: -1]\n",
    "    simbols = {'A': 10, 'B': 11, 'C': 12, 'D': 13, 'E': 14, 'F': 15}\n",
    "    decimal = 0\n",
    "    cont = len(xifra) - 1\n",
    "    \n",
    "    for i in xifra:\n",
    "        if i in simbols:\n",
    "            num = simbols.get(i,-1) *pow(16,cont) \n",
    "            decimal += num\n",
    "           \n",
    "        else:\n",
    "            num = int(i)*pow(16,cont)\n",
    "            decimal += num\n",
    "        cont -= 1\n",
    "    return decimal"
   ]
  },
  {
   "cell_type": "code",
   "execution_count": 2,
   "metadata": {},
   "outputs": [
    {
     "data": {
      "text/plain": [
       "(58, 182, 291)"
      ]
     },
     "execution_count": 2,
     "metadata": {},
     "output_type": "execute_result"
    }
   ],
   "source": [
    "convert_hex('3A'), convert_hex('B6'), convert_hex('123'), "
   ]
  },
  {
   "cell_type": "code",
   "execution_count": 3,
   "metadata": {},
   "outputs": [],
   "source": [
    "assert convert_hex('3A') == 58\n",
    "assert convert_hex('B6') == 182\n",
    "assert convert_hex('123') == 291"
   ]
  },
  {
   "cell_type": "markdown",
   "metadata": {},
   "source": [
    "#### Reflexions prèvies \n",
    "Per passar el número 123 a decimal el programa primer mirarà la longitud del número i li restarà 1 (en aquest cas el contador serà igual a 2). Agafarà el número 1, al no estar dins del diccionari multiplicarà el 1 per 16^2 i ho sumarà a la variable decimal el contador es decrementarà una unitat. Després farà el mateix amb el numero 2 (ho multiplicarà per 16^1) i amb el número 3 (ho multiplicarà per 16^0). \n",
    "Al final retornarà la suma de la multiplicació dels tres dígits. "
   ]
  },
  {
   "cell_type": "markdown",
   "metadata": {},
   "source": [
    "Escriu una funcio que compti quants digits te un nombre natural escrit en base 10 i representat per una variable int de Python"
   ]
  },
  {
   "cell_type": "code",
   "execution_count": 4,
   "metadata": {},
   "outputs": [],
   "source": [
    "def digits1(xifra):\n",
    "    \n",
    "    digits = str(xifra)\n",
    "    num_digits = len(digits)\n",
    "    \n",
    "    return num_digits"
   ]
  },
  {
   "cell_type": "code",
   "execution_count": 5,
   "metadata": {},
   "outputs": [
    {
     "data": {
      "text/plain": [
       "6"
      ]
     },
     "execution_count": 5,
     "metadata": {},
     "output_type": "execute_result"
    }
   ],
   "source": [
    "digits1(123456)"
   ]
  },
  {
   "cell_type": "code",
   "execution_count": 6,
   "metadata": {},
   "outputs": [],
   "source": [
    "assert digits1(123456)== 6"
   ]
  },
  {
   "cell_type": "code",
   "execution_count": 7,
   "metadata": {},
   "outputs": [
    {
     "data": {
      "text/plain": [
       "6"
      ]
     },
     "execution_count": 7,
     "metadata": {},
     "output_type": "execute_result"
    }
   ],
   "source": [
    "def digits(xifra):\n",
    "    num_digits = 0\n",
    "    x = str(xifra)\n",
    "    for i in x:\n",
    "        num_digits += 1\n",
    "    \n",
    "    return num_digits\n",
    "digits(123456)"
   ]
  },
  {
   "cell_type": "markdown",
   "metadata": {},
   "source": [
    "#### Reflexions prèvies\n",
    "1. Sí si es passa a string es pot calcular la seva longitud \n",
    "4. En el primer cas el cost seria de O(1), en el segon o(n) ja que itera per tota la cadena"
   ]
  },
  {
   "cell_type": "markdown",
   "metadata": {},
   "source": [
    "Escriu una funcio que donat un numero N, retorni tots els nombres binaris entre 1 i N dins d’una llista, ambdos inclosos. Pots usar alguna funcioespecifica de Python, com ara la funciio bin()"
   ]
  },
  {
   "cell_type": "code",
   "execution_count": 8,
   "metadata": {},
   "outputs": [],
   "source": [
    "def binari(N):\n",
    "    llista = []\n",
    "    for i in range(1, N + 1):\n",
    "        llista.append(bin(i))\n",
    "    return llista"
   ]
  },
  {
   "cell_type": "code",
   "execution_count": 9,
   "metadata": {},
   "outputs": [
    {
     "data": {
      "text/plain": [
       "['0b1',\n",
       " '0b10',\n",
       " '0b11',\n",
       " '0b100',\n",
       " '0b101',\n",
       " '0b110',\n",
       " '0b111',\n",
       " '0b1000',\n",
       " '0b1001',\n",
       " '0b1010']"
      ]
     },
     "execution_count": 9,
     "metadata": {},
     "output_type": "execute_result"
    }
   ],
   "source": [
    "binari(10) "
   ]
  },
  {
   "cell_type": "code",
   "execution_count": 10,
   "metadata": {},
   "outputs": [],
   "source": [
    "assert binari(10) == ['0b1', '0b10', '0b11', '0b100', '0b101', '0b110', '0b111', '0b1000','0b1001', '0b1010']"
   ]
  },
  {
   "cell_type": "markdown",
   "metadata": {},
   "source": [
    "Escriu una funció que compti la suma dels dígits d'un número elevat a una potència."
   ]
  },
  {
   "cell_type": "code",
   "execution_count": 11,
   "metadata": {},
   "outputs": [],
   "source": [
    "import math\n",
    "def suma_digits(num, potencia):\n",
    "    sol =int(math.pow(num, potencia)) \n",
    "    caracter = str(sol)\n",
    "    suma = 0\n",
    "    \n",
    "    for i in caracter:\n",
    "        suma += int(i)\n",
    "\n",
    "    return suma"
   ]
  },
  {
   "cell_type": "code",
   "execution_count": 12,
   "metadata": {},
   "outputs": [
    {
     "data": {
      "text/plain": [
       "(115, 7)"
      ]
     },
     "execution_count": 12,
     "metadata": {},
     "output_type": "execute_result"
    }
   ],
   "source": [
    "suma_digits(2, 100), suma_digits(2,10)"
   ]
  },
  {
   "cell_type": "code",
   "execution_count": 13,
   "metadata": {},
   "outputs": [],
   "source": [
    "assert suma_digits(2,100)== 115"
   ]
  },
  {
   "cell_type": "markdown",
   "metadata": {},
   "source": [
    "#### Reflexions prèvies\n",
    "3. Primer fa l'operació i el resultat el passa a int per evitar els punts, el resultat es convertit a una cadena de caràcters per així poder iterar per cada dígit de la solució i ho va sumant a la variable suma"
   ]
  },
  {
   "cell_type": "markdown",
   "metadata": {},
   "source": [
    "## 3.10 Restriccions múltiples 3 condicions"
   ]
  },
  {
   "cell_type": "markdown",
   "metadata": {},
   "source": [
    "Fes una funcio que trobi el nombre n mes gran tal que compleixi les següents tres condicions:\n",
    "1. n < 10000,\n",
    "2. n = m x m per algun m,\n",
    "3. n = k! + 1 per algun k"
   ]
  },
  {
   "cell_type": "code",
   "execution_count": 14,
   "metadata": {},
   "outputs": [
    {
     "data": {
      "text/plain": [
       "5041"
      ]
     },
     "execution_count": 14,
     "metadata": {},
     "output_type": "execute_result"
    }
   ],
   "source": [
    "import math\n",
    "def llistaquadrats():\n",
    "    \n",
    "    \"\"\"retorrna una llista amb els quadrats menors que 10000 (segona condició)\"\"\"\n",
    "    \n",
    "    llista = [x * x for x in range(100)]\n",
    "    return llista\n",
    "\n",
    "def factorial():\n",
    "    \n",
    "    \"\"\"retorna una llista amb els factorials menors de 10000 (tercera condició )\"\"\"\n",
    "    \n",
    "    factorial_llista = []\n",
    "    i = 1\n",
    "    while i < 10000 // 2:\n",
    "        factorial_llista.append(math.factorial(i))\n",
    "        i += 1\n",
    "    return factorial_llista\n",
    "    \n",
    "def numero_3_condicions():\n",
    "    \n",
    "    \"\"\"busca el número més gran que compleixi totes les condicions\"\"\"\n",
    "    \n",
    "    llista = llistaquadrats()\n",
    "    fact = factorial()  \n",
    "    \n",
    "    while fact[-1] + 1 != llista[-1]:  \n",
    "        if llista[-1] > fact[-1]:  \n",
    "            llista.pop(-1)  \n",
    "        elif llista[-1] < fact[-1]:  \n",
    "            fact.pop(-1)  \n",
    "        else:\n",
    "            llista_factorial.pop(-1)  \n",
    "            llista.pop(-1)  \n",
    "    buscat = fact[-1] + 1\n",
    "                \n",
    "    return buscat\n",
    "numero_3_condicions()"
   ]
  },
  {
   "cell_type": "code",
   "execution_count": 15,
   "metadata": {},
   "outputs": [],
   "source": [
    "assert numero_3_condicions() == 5041"
   ]
  },
  {
   "cell_type": "markdown",
   "metadata": {},
   "source": [
    "#### Reflexions prèvies\n",
    "Per cada condició és millor fer una funció diferent així serà més senzill i fàcil comprovar que es compleixen totes "
   ]
  },
  {
   "cell_type": "markdown",
   "metadata": {},
   "source": [
    "Fes una funció que trobi tots els nombres de setmanesn que tinguin un nombre de segons s tal que s = k! per algun k < 100. Pots\n",
    "fer servir la funció math.factorial(x), que calcula el factorial de x."
   ]
  },
  {
   "cell_type": "code",
   "execution_count": 16,
   "metadata": {},
   "outputs": [
    {
     "data": {
      "text/plain": [
       "[6, 66, 792]"
      ]
     },
     "execution_count": 16,
     "metadata": {},
     "output_type": "execute_result"
    }
   ],
   "source": [
    "import math\n",
    "def setmanes_segons():\n",
    "    \n",
    "    llista_setmanes = []\n",
    "    fact = set([math.factorial(i) for i in range(100)]) \n",
    "    segons = 7 * 24 * 3600\n",
    "    \n",
    "    for setmana in range(1000):\n",
    "        if setmana * segons in fact:\n",
    "            llista_setmanes.append(setmana)    \n",
    "    return llista_setmanes\n",
    "setmanes_segons()"
   ]
  },
  {
   "cell_type": "code",
   "execution_count": 17,
   "metadata": {},
   "outputs": [],
   "source": [
    "assert setmanes_segons() == [6, 66, 792]"
   ]
  },
  {
   "cell_type": "markdown",
   "metadata": {},
   "source": [
    "Donat un nombre n, troba dos nombres positius talsque la suma dels seus quadrats sigui n, o si no n'hi ha que retorni (-1;-1)."
   ]
  },
  {
   "cell_type": "code",
   "execution_count": 18,
   "metadata": {},
   "outputs": [],
   "source": [
    "import math\n",
    "    \n",
    "def quadrats(n):\n",
    "    \n",
    "    for num1 in range(2, 1 + int(pow(n, 1/2))):\n",
    "        for num2 in range(num1, 1 + int(pow(n, 1/2))):\n",
    "            if pow(num1, 2) + pow(num2, 2) == n:\n",
    "                return (num1, num2)\n",
    "    num1 = -1\n",
    "    num2 = -1\n",
    "                          \n",
    "    return(num1, num2)"
   ]
  },
  {
   "cell_type": "code",
   "execution_count": 19,
   "metadata": {},
   "outputs": [
    {
     "data": {
      "text/plain": [
       "((2, 11), (5, 9), (-1, -1))"
      ]
     },
     "execution_count": 19,
     "metadata": {},
     "output_type": "execute_result"
    }
   ],
   "source": [
    "quadrats(125), quadrats(106), quadrats(81)"
   ]
  },
  {
   "cell_type": "code",
   "execution_count": 20,
   "metadata": {},
   "outputs": [],
   "source": [
    "assert quadrats(125) == (2,11)\n",
    "assert quadrats(106) == (5,9)\n",
    "assert quadrats(81) == (-1,-1)"
   ]
  },
  {
   "cell_type": "markdown",
   "metadata": {},
   "source": [
    "Calcula la suma de tots els naturals que són múltiples de 3 o 5 i que són menors que 1000."
   ]
  },
  {
   "cell_type": "code",
   "execution_count": 21,
   "metadata": {},
   "outputs": [
    {
     "data": {
      "text/plain": [
       "233168"
      ]
     },
     "execution_count": 21,
     "metadata": {},
     "output_type": "execute_result"
    }
   ],
   "source": [
    "def multiples():\n",
    "    llista_mult = [i for i in range(1, 1000) if i % 3 == 0 or i % 5 == 0]\n",
    "    resultat = sum(llista_mult)\n",
    "    return resultat\n",
    "multiples()"
   ]
  },
  {
   "cell_type": "code",
   "execution_count": 22,
   "metadata": {},
   "outputs": [],
   "source": [
    "assert multiples() == 233168"
   ]
  },
  {
   "cell_type": "markdown",
   "metadata": {},
   "source": [
    "## 3.11 La seqüència de Fibonacci"
   ]
  },
  {
   "cell_type": "markdown",
   "metadata": {},
   "source": [
    "Calcula la suma dels termes parells menors de quatre milions"
   ]
  },
  {
   "cell_type": "code",
   "execution_count": 23,
   "metadata": {},
   "outputs": [
    {
     "data": {
      "text/plain": [
       "273"
      ]
     },
     "execution_count": 23,
     "metadata": {},
     "output_type": "execute_result"
    }
   ],
   "source": [
    "def fib3(n1): \n",
    "    a,b = 0,1\n",
    "    for i in range(1,n1+1):\n",
    "        a,b = b, a+b\n",
    "    return a\n",
    "\n",
    "def fibonacci_termes_parells(n):\n",
    "    llista = []\n",
    "    for i in range(n):\n",
    "        if fib3(i) % 2 == 0:\n",
    "            llista.append(i)\n",
    "    suma = sum(llista)\n",
    "    return suma\n",
    "fibonacci_termes_parells(40)"
   ]
  },
  {
   "cell_type": "code",
   "execution_count": 24,
   "metadata": {},
   "outputs": [
    {
     "data": {
      "text/plain": [
       "4613732"
      ]
     },
     "execution_count": 24,
     "metadata": {},
     "output_type": "execute_result"
    }
   ],
   "source": [
    "def fib3(n1): \n",
    "    a,b = 0,1\n",
    "    for i in range(1,n1+1):\n",
    "        a,b = b, a+b\n",
    "    return b\n",
    "\n",
    "def fibonacci_termes_parells(n):\n",
    "    suma = 0\n",
    "    i = 0\n",
    "    while fib3(i) < n:  \n",
    "        if fib3(i) % 2 == 0 :\n",
    "            suma += fib3(i)\n",
    "        i += 1\n",
    "    return suma\n",
    "fibonacci_termes_parells(4000000)"
   ]
  },
  {
   "cell_type": "code",
   "execution_count": 25,
   "metadata": {},
   "outputs": [
    {
     "name": "stdout",
     "output_type": "stream",
     "text": [
      "120 µs ± 28 µs per loop (mean ± std. dev. of 7 runs, 10000 loops each)\n"
     ]
    }
   ],
   "source": [
    "%timeit fibonacci_termes_parells(4000000)"
   ]
  },
  {
   "cell_type": "code",
   "execution_count": 26,
   "metadata": {},
   "outputs": [],
   "source": [
    "assert fibonacci_termes_parells(4000000) == 4613732"
   ]
  },
  {
   "cell_type": "markdown",
   "metadata": {},
   "source": [
    "Fes una funció que sumi els n primers termes de Fibonacci que siguin múltiples de 3"
   ]
  },
  {
   "cell_type": "code",
   "execution_count": 27,
   "metadata": {},
   "outputs": [],
   "source": [
    "def fib3(n1): \n",
    "    a,b = 0,1\n",
    "    for i in range(1,n1+1):\n",
    "        a,b = b, a+b\n",
    "    return b\n",
    "\n",
    "def fibonacci_multiples_3(n):\n",
    "    cont = 0\n",
    "    i = 0\n",
    "    suma = 0\n",
    "    while cont <= n:\n",
    "        if fib3(i) % 3 == 0:\n",
    "            suma += fib3(i)\n",
    "        i += 1\n",
    "        cont += 1\n",
    "    return suma"
   ]
  },
  {
   "cell_type": "code",
   "execution_count": 28,
   "metadata": {},
   "outputs": [
    {
     "data": {
      "text/plain": [
       "24"
      ]
     },
     "execution_count": 28,
     "metadata": {},
     "output_type": "execute_result"
    }
   ],
   "source": [
    "fibonacci_multiples_3(10)"
   ]
  },
  {
   "cell_type": "code",
   "execution_count": 29,
   "metadata": {},
   "outputs": [],
   "source": [
    "#assert fibonacci_multiples_3(10) == 119814915"
   ]
  },
  {
   "cell_type": "markdown",
   "metadata": {},
   "source": [
    "#### Reflexions prèvies\n",
    "Sabem que un nombre és divisible per un altre si al dividir el seu residu és 0"
   ]
  },
  {
   "cell_type": "markdown",
   "metadata": {},
   "source": [
    "Fes una funció que retorni els n primers termes de la sèrie de Fibonacci calculats d'aquesta manera, amb la menor complexitat possible"
   ]
  },
  {
   "cell_type": "code",
   "execution_count": 30,
   "metadata": {},
   "outputs": [
    {
     "data": {
      "text/plain": [
       "[0, 1, 1, 2, 3, 5, 8, 13, 21, 34]"
      ]
     },
     "execution_count": 30,
     "metadata": {},
     "output_type": "execute_result"
    }
   ],
   "source": [
    "def fibonacci_matricial(N):\n",
    "    sequencia = [0, 1]\n",
    "    a, b = 0, 1\n",
    "    for i in range(2, N):  \n",
    "        a, b = b, a + b\n",
    "        sequencia.append(b)\n",
    "\n",
    "    return sequencia\n",
    "fibonacci_matricial(10)"
   ]
  },
  {
   "cell_type": "code",
   "execution_count": 31,
   "metadata": {},
   "outputs": [],
   "source": [
    "assert fibonacci_matricial(10) == [0, 1, 1, 2, 3, 5, 8, 13, 21, 34]"
   ]
  },
  {
   "cell_type": "code",
   "execution_count": null,
   "metadata": {},
   "outputs": [],
   "source": []
  },
  {
   "cell_type": "code",
   "execution_count": null,
   "metadata": {},
   "outputs": [],
   "source": []
  }
 ],
 "metadata": {
  "kernelspec": {
   "display_name": "Python 3",
   "language": "python",
   "name": "python3"
  },
  "language_info": {
   "codemirror_mode": {
    "name": "ipython",
    "version": 3
   },
   "file_extension": ".py",
   "mimetype": "text/x-python",
   "name": "python",
   "nbconvert_exporter": "python",
   "pygments_lexer": "ipython3",
   "version": "3.6.5"
  }
 },
 "nbformat": 4,
 "nbformat_minor": 2
}
