{
 "cells": [
  {
   "cell_type": "markdown",
   "metadata": {},
   "source": [
    "# PRÀCTICA 9"
   ]
  },
  {
   "cell_type": "markdown",
   "metadata": {},
   "source": [
    "## 5.8 Rotacions"
   ]
  },
  {
   "cell_type": "markdown",
   "metadata": {},
   "source": [
    "Escriu una funció, que, donada una llista, calculi quantes rotacions s'han aplicat prèviament. Podem assumir que la llista no conté cap element duplicat."
   ]
  },
  {
   "cell_type": "code",
   "execution_count": 2,
   "metadata": {},
   "outputs": [
    {
     "data": {
      "text/plain": [
       "2"
      ]
     },
     "execution_count": 2,
     "metadata": {},
     "output_type": "execute_result"
    }
   ],
   "source": [
    "def rotacions(llista):\n",
    "    \n",
    "    num_rotacions = 0\n",
    "    while llista[num_rotacions] > llista[-1]:\n",
    "        num_rotacions += 1\n",
    "    \n",
    "    return num_rotacions\n",
    "rotacions([9, 10, 2, 5, 6, 8])"
   ]
  },
  {
   "cell_type": "code",
   "execution_count": 3,
   "metadata": {},
   "outputs": [],
   "source": [
    "assert rotacions([9, 10, 2, 5, 6, 8]) == 2\n",
    "assert rotacions([3, 5, 10, 12, 1, 2]) == 4\n",
    "assert rotacions([20, 2, 3, 7, 15, 18]) == 1"
   ]
  },
  {
   "cell_type": "markdown",
   "metadata": {},
   "source": [
    "## 5.23 Sumatori parcial màxim"
   ]
  },
  {
   "cell_type": "markdown",
   "metadata": {},
   "source": [
    "Resol el problema del sumatori parcial màxim usant un algorisme de força bruta, és a dir, en aquest cas, de complexitat O(n^2)."
   ]
  },
  {
   "cell_type": "code",
   "execution_count": 17,
   "metadata": {},
   "outputs": [
    {
     "data": {
      "text/plain": [
       "6"
      ]
     },
     "execution_count": 17,
     "metadata": {},
     "output_type": "execute_result"
    }
   ],
   "source": [
    "def sumatori_parcial_maxim_forca_bruta(llista):\n",
    "    \n",
    "    max_sum = 0      # O(1)\n",
    "    \n",
    "    for i in llista:  # O(n) * complexitat màxima dins del for (O(n))\n",
    "        acum = 0    \n",
    "        for j in llista:  #O(n) * complexitat màxima dins del for (O(1))\n",
    "            # si j és positiva es suma a l'acumulador\n",
    "            if j + acum > 0:    # O(1)\n",
    "                acum += j   # O(1)\n",
    "                # torna la suma maxima\n",
    "                if acum > max_sum:    # O(1)\n",
    "                    max_sum = acum    # O(1)\n",
    "                        \n",
    "            else: # O(1)\n",
    "                acum = 0\n",
    "\n",
    "    return max_sum\n",
    "# complexitat algorisme => O(n^2)\n",
    "sumatori_parcial_maxim_forca_bruta([1, 2, -6, 4, -1, 2, 1, -5])"
   ]
  },
  {
   "cell_type": "code",
   "execution_count": 14,
   "metadata": {},
   "outputs": [],
   "source": [
    "assert sumatori_parcial_maxim_forca_bruta([1, 2, -6, 4, -1, 2, 1, -5]) == 6"
   ]
  },
  {
   "cell_type": "markdown",
   "metadata": {},
   "source": [
    "## 5.24 Xifres i lletres Ordenació per selecció "
   ]
  },
  {
   "cell_type": "markdown",
   "metadata": {},
   "source": [
    "Considera una llista de strings amb dos tipus de dades diferents: cadenes de lletres i cadenes de nombres. L'objectiu d'aquest problema és ordenar aquesta llista de manera que les cadenes formades per nombres quedin al capdavant."
   ]
  },
  {
   "cell_type": "code",
   "execution_count": 25,
   "metadata": {},
   "outputs": [
    {
     "name": "stdout",
     "output_type": "stream",
     "text": [
      "False\n"
     ]
    }
   ],
   "source": [
    "print(\"A\" < \"3\") # els numeros per ASCII són mes petits que les lletres"
   ]
  },
  {
   "cell_type": "code",
   "execution_count": 26,
   "metadata": {},
   "outputs": [
    {
     "name": "stdout",
     "output_type": "stream",
     "text": [
      "['123', '456', '789', '870', 'abc', 'tzu', 'zzz']\n"
     ]
    }
   ],
   "source": [
    "def xifres_lletres_ord_sel(llista):\n",
    "    \n",
    "    # agafem el primer element de la llista que encara no hem comparat\n",
    "    for i in range(0, len(llista) - 1): # O(n^2)\n",
    "        minim = i    # O(1)\n",
    "        # anem comparant la resta de la llista amb l'element i\n",
    "        for j in range( i + 1, len(llista)):    # O(n) -> iteració \n",
    "            # si l'element j és mes petit que i, guardem j com a element mínim \n",
    "            if llista[j] < llista[minim]:  # O(1)\n",
    "                minim = j  # O(1)\n",
    "        # un cop comparat l'element i amb la resta de la llista intercanviem l'element mínim amb el i\n",
    "        llista[i], llista[minim] = llista[minim], llista[i] # O(1)\n",
    "    print(llista)\n",
    "    \n",
    "# complexitat algorisme O(n^2)\n",
    "xifres_lletres_ord_sel([\"456\",\"789\",\"abc\",\"123\",\"tzu\",\"870\",\"zzz\"])"
   ]
  },
  {
   "cell_type": "markdown",
   "metadata": {},
   "source": [
    "L'algorisme té una complexitat O(n^2) ja que ha d'iterar doblement la llista. Farà una iteració per agafar l'element a comparar (li direm i) i, per cada element i, recorrerà la resta d'elements per comprovar quin element és el més petit.Cada iteració té un cost O(n) i la resta d'operacions ( comprovar i assignar) tenen un cost O(1), per això la complexitat final serà de O(n^2)"
   ]
  },
  {
   "cell_type": "code",
   "execution_count": 28,
   "metadata": {},
   "outputs": [
    {
     "name": "stdout",
     "output_type": "stream",
     "text": [
      "['14', '2', '368', '37409', '4599', '504', '8', '9', 'adw', 'ezi', 'ly', 'ndqdu', 'roky', 'tb', 'wy']\n",
      "['31', '34', '375', '645', '73769', '77806', 'hllso', 'hv', 'iaem', 'k', 'o', 'tdvsf', 'uytk', 'xzy']\n",
      "['724', '7850', '82', 'lq', 'nvmr', 'vnq', 'we']\n",
      "['5', '93444', 'b', 'ix', 'rxz', 'x', 'yizqi']\n",
      "['15', '1680', '232', '49', '62374', '64407', '8201', 'belf', 'fx', 'vhlr']\n",
      "['02973', '086', '11226', '15608', '2533', '4792', '69730', '836', '85', '97', 'aka', 's', 'zgjn']\n",
      "['0', '27', '3111', '422', '4465', '5', '771', '92619', 'ddagc', 'dirw', 'kqq']\n",
      "['04338', '22', '30', '31', '47', '6318', '71158', '863', 'rlbom']\n",
      "['1461', '16', '2872', '51', '67543', '90443', '97', 'btyt', 'iiu']\n",
      "['14', '42', 'it', 'm', 'qbqp']\n",
      "['80', 'ca', 'g', 'oi', 'zjdm']\n",
      "['4', '7', '9', 'e', 'hxu', 'o', 'ovzlk', 'rsfu', 'ru', 't', 'zoj']\n",
      "['0092', 'hh', 'jayzp', 'mcu', 'oaei', 'plql', 'q']\n",
      "['50880', '5200', '599', '8553', '9035', 'bshz', 'cqow', 'epmfu', 'hjzxf', 'pn', 'poy', 'qp', 'rrpzo', 'src', 'zvh']\n",
      "['13', '8702', 'bikc', 'ek', 'g', 'gsogu', 'hysr', 'lxn', 'mrdte', 'sx']\n",
      "['0761', '0998', '1', '2', '3974', '5', '637', '67', '8', 'bwfqg', 'c', 'hv', 'm', 'p', 'yqz', 'z']\n",
      "['0809', '28', '29519', '31', '40536', '536', '71', '85', '8643', '93', 'eir', 'mfl', 'mysx']\n",
      "['2', '8058', '8385', '898', '92716', '9588', 'gbhlc', 'sol']\n",
      "['2', '30165', '30900', '480', '507', '57643', '8', '82', 'kussl', 'r', 'ra', 'sy', 'tdur']\n",
      "['10738', '15', '3893', '437', '49', '95', 'htszu', 'jnc']\n",
      "all tests completed!\n"
     ]
    }
   ],
   "source": [
    "llista = ['14', 'tb', '8', '4599', 'ly', '368', '9', 'roky', 'ndqdu', '2', 'ezi', 'adw', 'wy', '37409', '504']\n",
    "xifres_lletres_ord_sel(llista)\n",
    "assert llista == ['14', '2', '368', '37409', '4599', '504', '8', '9', 'adw', 'ezi', 'ly', 'ndqdu', 'roky', 'tb', 'wy']\n",
    "llista = ['o', '73769', 'iaem', 'hv', '77806', 'k', '34', '31', 'xzy', '375', 'uytk', 'hllso', 'tdvsf', '645']\n",
    "xifres_lletres_ord_sel(llista)\n",
    "assert llista == ['31', '34', '375', '645', '73769', '77806', 'hllso', 'hv', 'iaem', 'k', 'o', 'tdvsf', 'uytk', 'xzy']\n",
    "llista = ['82', '724', 'vnq', '7850', 'lq', 'nvmr', 'we']\n",
    "xifres_lletres_ord_sel(llista)\n",
    "assert llista == ['724', '7850', '82', 'lq', 'nvmr', 'vnq', 'we']\n",
    "llista = ['5', 'yizqi', 'b', 'rxz', 'ix', '93444', 'x']\n",
    "xifres_lletres_ord_sel(llista)\n",
    "assert llista == ['5', '93444', 'b', 'ix', 'rxz', 'x', 'yizqi']\n",
    "llista = ['8201', '62374', '15', 'vhlr', 'fx', '64407', '232', 'belf', '49', '1680']\n",
    "xifres_lletres_ord_sel(llista)\n",
    "assert llista == ['15', '1680', '232', '49', '62374', '64407', '8201', 'belf', 'fx', 'vhlr']\n",
    "llista = ['s', '02973', '85', '086', '4792', '97', '2533', 'zgjn', '69730', '15608', '11226', 'aka', '836']\n",
    "xifres_lletres_ord_sel(llista)\n",
    "assert llista == ['02973', '086', '11226', '15608', '2533', '4792', '69730', '836', '85', '97', 'aka', 's', 'zgjn']\n",
    "llista = ['27', '771', 'dirw', '3111', '5', 'kqq', '92619', '4465', '422', '0', 'ddagc']\n",
    "xifres_lletres_ord_sel(llista)\n",
    "assert llista == ['0', '27', '3111', '422', '4465', '5', '771', '92619', 'ddagc', 'dirw', 'kqq']\n",
    "llista = ['31', '22', '30', '863', 'rlbom', '6318', '71158', '04338', '47']\n",
    "xifres_lletres_ord_sel(llista)\n",
    "assert llista == ['04338', '22', '30', '31', '47', '6318', '71158', '863', 'rlbom']\n",
    "llista = ['90443', '16', '51', 'iiu', '97', '1461', 'btyt', '67543', '2872']\n",
    "xifres_lletres_ord_sel(llista)\n",
    "assert llista == ['1461', '16', '2872', '51', '67543', '90443', '97', 'btyt', 'iiu']\n",
    "llista = ['m', 'it', '42', 'qbqp', '14']\n",
    "xifres_lletres_ord_sel(llista)\n",
    "assert llista == ['14', '42', 'it', 'm', 'qbqp']\n",
    "llista = ['zjdm', 'ca', 'oi', 'g', '80']\n",
    "xifres_lletres_ord_sel(llista)\n",
    "assert llista == ['80', 'ca', 'g', 'oi', 'zjdm']\n",
    "llista = ['9', 'hxu', 'ru', 'o', 'e', 't', '7', '4', 'ovzlk', 'zoj', 'rsfu']\n",
    "xifres_lletres_ord_sel(llista)\n",
    "assert llista == ['4', '7', '9', 'e', 'hxu', 'o', 'ovzlk', 'rsfu', 'ru', 't', 'zoj']\n",
    "llista = ['plql', 'jayzp', 'oaei', 'mcu', 'hh', 'q', '0092']\n",
    "xifres_lletres_ord_sel(llista)\n",
    "assert llista == ['0092', 'hh', 'jayzp', 'mcu', 'oaei', 'plql', 'q']\n",
    "llista = ['zvh', 'poy', '9035', 'bshz', 'rrpzo', '5200', 'qp', '50880', 'cqow', 'hjzxf', '599', 'src', 'epmfu', 'pn', '8553']\n",
    "xifres_lletres_ord_sel(llista)\n",
    "assert llista == ['50880', '5200', '599', '8553', '9035', 'bshz', 'cqow', 'epmfu', 'hjzxf', 'pn', 'poy', 'qp', 'rrpzo', 'src', 'zvh']\n",
    "llista = ['sx', 'hysr', '8702', 'gsogu', 'g', 'ek', 'bikc', 'mrdte', '13', 'lxn']\n",
    "xifres_lletres_ord_sel(llista)\n",
    "assert llista == ['13', '8702', 'bikc', 'ek', 'g', 'gsogu', 'hysr', 'lxn', 'mrdte', 'sx']\n",
    "llista = ['3974', '1', '8', '0998', 'c', 'p', 'yqz', 'z', '5', '2', '0761', 'bwfqg', 'hv', 'm', '67', '637']\n",
    "xifres_lletres_ord_sel(llista)\n",
    "assert llista == ['0761', '0998', '1', '2', '3974', '5', '637', '67', '8', 'bwfqg', 'c', 'hv', 'm', 'p', 'yqz', 'z']\n",
    "llista = ['0809', '29519', '71', '536', 'eir', '93', '8643', '85', '40536', '28', 'mfl', 'mysx', '31']\n",
    "xifres_lletres_ord_sel(llista)\n",
    "assert llista == ['0809', '28', '29519', '31', '40536', '536', '71', '85', '8643', '93', 'eir', 'mfl', 'mysx']\n",
    "llista = ['sol', '2', 'gbhlc', '8058', '9588', '898', '8385', '92716']\n",
    "xifres_lletres_ord_sel(llista)\n",
    "assert llista == ['2', '8058', '8385', '898', '92716', '9588', 'gbhlc', 'sol']\n",
    "llista = ['r', 'sy', 'ra', 'kussl', 'tdur', '30900', '57643', '82', '2', '507', '30165', '8', '480']\n",
    "xifres_lletres_ord_sel(llista)\n",
    "assert llista == ['2', '30165', '30900', '480', '507', '57643', '8', '82', 'kussl', 'r', 'ra', 'sy', 'tdur']\n",
    "llista = ['49', '95', 'htszu', '15', '10738', '3893', '437', 'jnc']\n",
    "xifres_lletres_ord_sel(llista)\n",
    "assert llista == ['10738', '15', '3893', '437', '49', '95', 'htszu', 'jnc']\n",
    "print(\"all tests completed!\")"
   ]
  },
  {
   "cell_type": "code",
   "execution_count": null,
   "metadata": {},
   "outputs": [],
   "source": []
  }
 ],
 "metadata": {
  "kernelspec": {
   "display_name": "Python 3",
   "language": "python",
   "name": "python3"
  },
  "language_info": {
   "codemirror_mode": {
    "name": "ipython",
    "version": 3
   },
   "file_extension": ".py",
   "mimetype": "text/x-python",
   "name": "python",
   "nbconvert_exporter": "python",
   "pygments_lexer": "ipython3",
   "version": "3.6.5"
  }
 },
 "nbformat": 4,
 "nbformat_minor": 2
}
