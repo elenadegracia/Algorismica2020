{
 "cells": [
  {
   "cell_type": "markdown",
   "metadata": {
    "id": "grpDRqKZkF27"
   },
   "source": [
    "<div id=\"capcalera\">\n",
    "<p><a href=\"https://colab.research.google.com/github/algorismica2020/algorismica2020.github.io/blob/master/notebookscolab/PythonPractica1.ipynb\"><img style=\"margin:-10px 10px 20px 0\" width=\"150px\" align=\"right\" src=\"https://raw.githubusercontent.com/algorismica2019/problemes/master/assets/colab-badge.png?raw=1\" alt=\"Obrir a Colab\" title=\"Obrir i executar a Google Colaboratory\"></a></p>\n",
    "<p style=\"clear:both\"><img align='left' width=\"300px\" style=\"padding-right:10px;float=left\" src=\"https://raw.githubusercontent.com/algorismica2019/problemes/master/assets/al-khwarizmi.png\">Aquest notebook complementa els continguts teòrics de l'assignatura d'<strong>Algorísmica</strong> del Grau d'Enginyeria Informàtica a la <a href=\"https://mat.ub.edu\">Facultat de Matemàtiques i Informàtica</a> de la <a href=\"https://www.ub.edu\">Universitat de Barcelona</a> impartida per <em>Jordi Vitrià</em> i <em>Mireia Ribera</em></p>\n",
    "\n",
    "<p>Els problemes s'ofereixen sota llicència <a href=\"https://creativecommons.org/licenses/by-nc-nd/3.0/us/legalcode\">CC-BY-NC-ND license</a>, i el codi sota <a href=\"https://opensource.org/licenses/MIT\">Llicència MIT</a>.</p>\n",
    "\n",
    "</div>"
   ]
  },
  {
   "cell_type": "markdown",
   "metadata": {
    "id": "QavhPQ6ckF2_"
   },
   "source": [
    "# <span class=\"tema\">(Python)</span> Pràctica dels conceptes inicials"
   ]
  },
  {
   "cell_type": "code",
   "execution_count": 1,
   "metadata": {
    "id": "NTFnwrcAkF3B"
   },
   "outputs": [],
   "source": [
    "# Completa els programes següents segons les indicacions donades\n",
    "# després crida'ls i comprova que funcionen\n",
    "\n",
    "def nom(nom):      # falta el nom de la funció\n",
    "    print(nom)\n",
    "    \n",
    "\n",
    "def calcul(x, y):  # algun signe? Falta el signe : despres del parentesis\n",
    "    print(x + y)\n",
    "    \n",
    "def calcul_per_teclat():\n",
    "    x = eval(input(\"Digues un nombre:\"))\n",
    "    y  = eval(input(\"Digues un altre nombre:\")) # completa-ho\n",
    "    print(x * y)\n",
    "    \n",
    "def elevat_a_3(n):\n",
    "    print(pow(n, 3))      # com es feia la potència? \n",
    "   "
   ]
  },
  {
   "cell_type": "code",
   "execution_count": 2,
   "metadata": {
    "id": "_nv0HcLakF3X"
   },
   "outputs": [
    {
     "name": "stdout",
     "output_type": "stream",
     "text": [
      "Elena\n"
     ]
    }
   ],
   "source": [
    " nom(\"Elena\")                   # aquí falta una crida"
   ]
  },
  {
   "cell_type": "code",
   "execution_count": 3,
   "metadata": {
    "id": "4mSOi9RtkF3y"
   },
   "outputs": [
    {
     "name": "stdout",
     "output_type": "stream",
     "text": [
      "45\n"
     ]
    }
   ],
   "source": [
    "calcul(43,2)"
   ]
  },
  {
   "cell_type": "code",
   "execution_count": 4,
   "metadata": {
    "id": "BtNP3Hw4kF4m"
   },
   "outputs": [
    {
     "name": "stdout",
     "output_type": "stream",
     "text": [
      "Digues un nombre:2\n",
      "Digues un altre nombre:2\n",
      "4\n"
     ]
    }
   ],
   "source": [
    "calcul_per_teclat()"
   ]
  },
  {
   "cell_type": "code",
   "execution_count": 5,
   "metadata": {
    "id": "0h3geSGikF48"
   },
   "outputs": [
    {
     "name": "stdout",
     "output_type": "stream",
     "text": [
      "125\n"
     ]
    }
   ],
   "source": [
    "elevat_a_3(5)"
   ]
  },
  {
   "cell_type": "code",
   "execution_count": null,
   "metadata": {
    "id": "ivXrDiYhkF5Z"
   },
   "outputs": [],
   "source": [
    "# Corregeix, si cal, les següents instruccions\n",
    "\n",
    "print 3 \n",
    "print \"hola\"\n",
    "print(3)\n",
    "print(hola)"
   ]
  },
  {
   "cell_type": "code",
   "execution_count": 6,
   "metadata": {},
   "outputs": [
    {
     "name": "stdout",
     "output_type": "stream",
     "text": [
      "3\n",
      "hola\n",
      "3\n",
      "hola\n"
     ]
    }
   ],
   "source": [
    "print(3)    #falta el parentesis\n",
    "print(\"hola\")    #falta el parentesis\n",
    "print(3)      #correcte\n",
    "print(hola)   #si hola es considera una variable declarada anteriorment i volem que imprimeixi el valor guardat seria correcte\n",
    "              # pero si volem que ens imprimeixi per pantalla hola s'hauria d'escriure print(\"hola\")\n",
    "print(\"hola\")"
   ]
  },
  {
   "cell_type": "markdown",
   "metadata": {
    "id": "RdomxG3lkF54"
   },
   "source": [
    "Indica al costat de cada nom de funció o variable si és correcte o no\n",
    "(segons les indicacions donades a teoria):\n",
    "    \n",
    "+ Hola ---> correcte\n",
    "+ FuncioMagnifica ---> correcte\n",
    "+ 1que_vol  ---> incorrecte, no pot començar amb un numero\n",
    "+ funcio magnifica ---> incorrecte, no pot haver-hi espai\n",
    "+ funcio_magnifica ---> correcte\n",
    "+ funcio-magnifica ---> incorrecte, una funció o variable no es pot separar per -\n",
    "+ while ---> incorrecte, while és una paraula reservada\n",
    "+ CALCUL ---> correcte"
   ]
  },
  {
   "cell_type": "markdown",
   "metadata": {
    "id": "Vjwlt3A6kF5-"
   },
   "source": [
    "Què fa \"end=''\" quan ho posem al final de print? busca-ho als apunts, experimenta i explica-ho"
   ]
  },
  {
   "cell_type": "code",
   "execution_count": 7,
   "metadata": {},
   "outputs": [
    {
     "name": "stdout",
     "output_type": "stream",
     "text": [
      "hello +\n",
      "he+hell hola\n",
      "fin\n"
     ]
    }
   ],
   "source": [
    "print(\"hello\", \"+\")\n",
    "print (\"he\", end=\"+\")\n",
    "print(\"hell\", end=\" \")\n",
    "print(\"hola\", end=\"\\n\")\n",
    "print(\"fin\")"
   ]
  },
  {
   "cell_type": "markdown",
   "metadata": {},
   "source": [
    "El valor predeterminat de end és \\n que vol dir que la seguent impresió per pantalla s'imprimira en una nova línea. En definitiva el que hi ha dins de l'end és el que s'imprimirà després de que s'hagi executat el print.\n"
   ]
  },
  {
   "cell_type": "code",
   "execution_count": 8,
   "metadata": {
    "id": "5vnCudMHkF6D"
   },
   "outputs": [
    {
     "name": "stdout",
     "output_type": "stream",
     "text": [
      "Digues el teu nom:Elena\n",
      "<class 'str'>\n",
      "Digues la teva edat:22\n"
     ]
    },
    {
     "data": {
      "text/plain": [
       "int"
      ]
     },
     "execution_count": 8,
     "metadata": {},
     "output_type": "execute_result"
    }
   ],
   "source": [
    "# Posa les instruccions per demanar la dada que s'indica seguint els patrons:\n",
    "# Comprova de quin tipus és la variable resultant\n",
    "\n",
    "nom = input(\"Digues el teu nom:\")    \n",
    "print(type(nom))  # per defecte input sempre llegeix una cadena\n",
    "x = eval(input(\"Digues la teva edat:\"))\n",
    "           # si volem llegir un nombre hem de posar \"eval\"\n",
    "type(x)"
   ]
  },
  {
   "cell_type": "code",
   "execution_count": 9,
   "metadata": {
    "id": "ZqHHqP5AkF6t"
   },
   "outputs": [
    {
     "name": "stdout",
     "output_type": "stream",
     "text": [
      "A quina ciutat vius? Sabadell\n",
      "<class 'str'>\n",
      "vius a la ciutat  Sabadell\n"
     ]
    }
   ],
   "source": [
    "# demana la ciutat on viu\n",
    "\n",
    "ciutat = input(\"A quina ciutat vius? \")\n",
    "print(type(ciutat))\n",
    "print(\"vius a la ciutat \", ciutat)"
   ]
  },
  {
   "cell_type": "code",
   "execution_count": 10,
   "metadata": {
    "id": "tP9Zlc1ukF7I"
   },
   "outputs": [
    {
     "name": "stdout",
     "output_type": "stream",
     "text": [
      "quina alçada fas en metres?1.60\n",
      "<class 'float'>\n",
      "i en cm? 122\n",
      "<class 'int'>\n",
      "en metres medeixes  1.6 i en cm 122\n"
     ]
    }
   ],
   "source": [
    "# demana l'alçada\n",
    "\n",
    "alcada = eval(input(\"quina alçada fas en metres?\"))\n",
    "print(type(alcada))\n",
    "alcada1 = eval(input(\"i en cm? \"))\n",
    "print(type(alcada1))\n",
    "\n",
    "print(\"en metres medeixes \", alcada, \"i en cm\", alcada1)"
   ]
  },
  {
   "cell_type": "code",
   "execution_count": 11,
   "metadata": {
    "id": "zE-mATRFkF7t"
   },
   "outputs": [
    {
     "name": "stdout",
     "output_type": "stream",
     "text": [
      "Quants germans tens?4\n",
      "<class 'int'>\n",
      "Tens 4 germans\n"
     ]
    }
   ],
   "source": [
    "# demana quants germans i/o germanes té\n",
    "\n",
    "germans = eval(input(\"Quants germans tens?\"))\n",
    "print(type(germans))\n",
    "print(\"Tens\", germans, \"germans\")"
   ]
  },
  {
   "cell_type": "code",
   "execution_count": 12,
   "metadata": {
    "id": "vxv2vb1ekF8M"
   },
   "outputs": [
    {
     "name": "stdout",
     "output_type": "stream",
     "text": [
      "Quin es el teu idioma preferent?Catala\n",
      "El teu idioma preferent és: Catala\n",
      "<class 'str'>\n"
     ]
    }
   ],
   "source": [
    "# demana l'idioma preferent\n",
    "\n",
    "idioma = input(\"Quin es el teu idioma preferent?\")\n",
    "print(\"El teu idioma preferent és:\", idioma)\n",
    "print(type(idioma))"
   ]
  },
  {
   "cell_type": "code",
   "execution_count": 13,
   "metadata": {
    "id": "SUpXQEoCkF8m"
   },
   "outputs": [
    {
     "name": "stdout",
     "output_type": "stream",
     "text": [
      "x = 7 y = 4 w= 5 z= 6\n"
     ]
    }
   ],
   "source": [
    "# Escriu un programa per intercanviar 4 variables de valor\n",
    "# inicialment x = 4, y = 5, w = 6, z = 7\n",
    "# al final has d'aconseguir que x = 7, y =4, w = 5 i z = 6\n",
    "\n",
    "def intercanvi():\n",
    "    \n",
    "    x = 4\n",
    "    y = 5\n",
    "    w = 6\n",
    "    z = 7\n",
    "    x, y, w, z = z, x, y, w\n",
    "    print(\"x =\", x, \"y =\", y, \"w=\", w, \"z=\", z)\n",
    "    \n",
    "intercanvi()"
   ]
  },
  {
   "cell_type": "code",
   "execution_count": 14,
   "metadata": {
    "id": "ygKWXQs6kF8_"
   },
   "outputs": [],
   "source": [
    "# A partir del següent model, canvia els valors del for \n",
    "# per mostrar els valors demanats:"
   ]
  },
  {
   "cell_type": "code",
   "execution_count": 15,
   "metadata": {
    "id": "fwUo4zW2kF9Q"
   },
   "outputs": [
    {
     "name": "stdout",
     "output_type": "stream",
     "text": [
      "2\n",
      "5\n",
      "8\n"
     ]
    }
   ],
   "source": [
    "# Model, mostra els valors de 2 a 10 en salts de 3 en 3\n",
    "\n",
    "for i in range (2,10,3):\n",
    "    print(i)"
   ]
  },
  {
   "cell_type": "code",
   "execution_count": 16,
   "metadata": {
    "id": "TTZoXko4kF9n"
   },
   "outputs": [
    {
     "name": "stdout",
     "output_type": "stream",
     "text": [
      "0\n",
      "1\n",
      "2\n",
      "3\n",
      "4\n",
      "5\n"
     ]
    }
   ],
   "source": [
    "# Copia el model i canvia els valors per a que mostri 0 a 5 de 1 en 1\n",
    "\n",
    "\n",
    "for i in range(0, 5 + 1, 1):\n",
    "    print(i)"
   ]
  },
  {
   "cell_type": "code",
   "execution_count": 20,
   "metadata": {
    "id": "3QGoiTs2kF93"
   },
   "outputs": [
    {
     "name": "stdout",
     "output_type": "stream",
     "text": [
      "0\n",
      "1\n",
      "2\n",
      "3\n",
      "4\n",
      "5\n"
     ]
    }
   ],
   "source": [
    "# Pots simplificar el codi de l'anterior casella amb els mateixos resultats?\n",
    "\n",
    "for i in range(6):\n",
    "    print(i)"
   ]
  },
  {
   "cell_type": "code",
   "execution_count": 18,
   "metadata": {
    "id": "3Evlbyt6kF-I"
   },
   "outputs": [
    {
     "name": "stdout",
     "output_type": "stream",
     "text": [
      "8\n",
      "6\n",
      "4\n"
     ]
    }
   ],
   "source": [
    "# Copia el model i canvia els valors per a que es mostri 8,6,4\n",
    "\n",
    "for i in range(8, 2, -2):\n",
    "    print(i)"
   ]
  },
  {
   "cell_type": "markdown",
   "metadata": {
    "id": "h28J6ShJkF-Z"
   },
   "source": [
    "Escriu un programa que pregunti algunes dades personals i després les mostri per pantalla de manera ordenada."
   ]
  },
  {
   "cell_type": "code",
   "execution_count": 19,
   "metadata": {},
   "outputs": [
    {
     "name": "stdout",
     "output_type": "stream",
     "text": [
      "Com et dius?Elena\n",
      "A quantes assignatures t'has matriculat?9\n",
      "Qants anys tens?20\n",
      "D'on ets?Sabadell\n",
      "Hola Elena tens 20 anys, ets de Sabadell i t'has matriculat de 9 assignatures\n"
     ]
    }
   ],
   "source": [
    "def persona():\n",
    "    \n",
    "    nom = input(\"Com et dius?\")\n",
    "    ass = eval(input(\"A quantes assignatures t'has matriculat?\"))\n",
    "    edat  = int(input(\"Qants anys tens?\"))\n",
    "    ciutat = input(\"D'on ets?\")\n",
    "    \n",
    "    print(\"Hola\", nom, \"tens\", edat, \"anys, ets de\", ciutat, \"i t'has matriculat de\", ass, \"assignatures\" )\n",
    "    \n",
    "persona()"
   ]
  },
  {
   "cell_type": "markdown",
   "metadata": {
    "id": "zeQQDl3zkF-h"
   },
   "source": [
    "<div id=\"peu\">\n",
    "<p><a href=\"https://colab.research.google.com/github/algorismica2020/algorismica2020.github.io/blob/master/notebookscolab/PythonPractica1.ipynb\"><img style=\"margin:-10px 10px 20px 0\" width=\"150px\" align=\"right\" src=\"https://raw.githubusercontent.com/algorismica2019/problemes/master/assets/colab-badge.png?raw=1\" alt=\"Obrir a Colab\" title=\"Obrir i executar a Google Colaboratory\"></a></p>\n",
    "</div>"
   ]
  }
 ],
 "metadata": {
  "colab": {
   "collapsed_sections": [],
   "name": "Copy of PythonPractica1.ipynb",
   "provenance": []
  },
  "kernelspec": {
   "display_name": "Python 3",
   "language": "python",
   "name": "python3"
  },
  "language_info": {
   "codemirror_mode": {
    "name": "ipython",
    "version": 3
   },
   "file_extension": ".py",
   "mimetype": "text/x-python",
   "name": "python",
   "nbconvert_exporter": "python",
   "pygments_lexer": "ipython3",
   "version": "3.6.5"
  }
 },
 "nbformat": 4,
 "nbformat_minor": 1
}
