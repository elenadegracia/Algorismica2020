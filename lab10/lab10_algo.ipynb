{
 "cells": [
  {
   "cell_type": "markdown",
   "metadata": {},
   "source": [
    "# PRÀCTICA 10"
   ]
  },
  {
   "cell_type": "markdown",
   "metadata": {},
   "source": [
    "### 5.6 Negatius al davant"
   ]
  },
  {
   "cell_type": "code",
   "execution_count": 15,
   "metadata": {},
   "outputs": [],
   "source": [
    "def negatius(llista):\n",
    "    j = 0\n",
    "    for i in range(len(llista)):\n",
    "        if llista[i] <= 0:\n",
    "            llista[i], llista[j] = llista[j], llista[i]\n",
    "            j += 1\n",
    "    print(llista)"
   ]
  },
  {
   "cell_type": "code",
   "execution_count": 17,
   "metadata": {},
   "outputs": [
    {
     "name": "stdout",
     "output_type": "stream",
     "text": [
      "[-2, -4, -3, 1, 3, 5, 6]\n"
     ]
    }
   ],
   "source": [
    "llista = [1, -2, 3, -4, -3, 5, 6]\n",
    "negatius(llista)"
   ]
  },
  {
   "cell_type": "markdown",
   "metadata": {},
   "source": [
    "### 5.19 Karatsuba"
   ]
  },
  {
   "cell_type": "code",
   "execution_count": 61,
   "metadata": {},
   "outputs": [
    {
     "data": {
      "text/plain": [
       "4455000"
      ]
     },
     "execution_count": 61,
     "metadata": {},
     "output_type": "execute_result"
    }
   ],
   "source": [
    "def karatsuba(x,y):\n",
    "    if (x<10) or (y<10):    \n",
    "        prod = x*y\n",
    "        return prod\n",
    "    else:\n",
    "        m = max(len (str(x)),len (str(y)))\n",
    "        n = m // 2 #talla per la meitat els números\n",
    "        \n",
    "        a = x // 10**n  # a equival als primers dígits de x\n",
    "        b = x % 10**n  # b equival als últms dígits de x\n",
    "        c = y // 10**n  # c equival als primers dígits de y\n",
    "        d = y % 10**n  # d equival als últms dígits de y\n",
    "        #print(a,\" \",b,\" \",c,\" \",d)\n",
    "        \n",
    "        #x*y=10**n*ac + 10**2/n*(ad+bc) + bd\n",
    "        #(ad+bc)=[(a+b)(c+d)]-(bd)-(ac)\n",
    "        #Calculem karatsuba recursivament\n",
    "        \n",
    "        f = karatsuba(a,c)\n",
    "        f1 = karatsuba(b,d)\n",
    "        f2 = karatsuba(a+b,c+d) - f - f1\n",
    "        prod = (f*10**(2*n)) + (f2*10**n) + f1\n",
    "        \n",
    "        return prod\n",
    "karatsuba(1100,4050)"
   ]
  },
  {
   "cell_type": "code",
   "execution_count": 62,
   "metadata": {},
   "outputs": [],
   "source": [
    "assert karatsuba(1100,4050) == 4455000"
   ]
  },
  {
   "cell_type": "code",
   "execution_count": 64,
   "metadata": {},
   "outputs": [
    {
     "data": {
      "text/plain": [
       "4455000"
      ]
     },
     "execution_count": 64,
     "metadata": {},
     "output_type": "execute_result"
    }
   ],
   "source": [
    "def karatsuba1(x, y):\n",
    "    \n",
    "    if x < 10 or y < 10:\n",
    "        return x * y\n",
    "\n",
    "    n = max(len(str(x)), len(str(y)))\n",
    "    bn = 10 ** (n // 2)\n",
    "\n",
    "    x1 = x // bn\n",
    "    x2 = x % bn\n",
    "    y1 = y // bn\n",
    "    y2 = y % bn\n",
    "    #x1, x2 = divmod(x, bn)\n",
    "    #y1, y2 = divmod(y, bn)\n",
    "  \n",
    "    ac = karatsuba1(x1, y1)\n",
    "    bd = karatsuba1(x2, y2)\n",
    "    adbc = karatsuba(x1 + x2, y1 + y2) - ac - bd\n",
    "    prod = ((10  ** n) * ac) + bn * adbc + bd\n",
    "    \n",
    "    return prod\n",
    "\n",
    "karatsuba1(1100,4050)"
   ]
  },
  {
   "cell_type": "code",
   "execution_count": 65,
   "metadata": {},
   "outputs": [],
   "source": [
    "assert karatsuba1(1100,4050) == 4455000"
   ]
  },
  {
   "cell_type": "markdown",
   "metadata": {},
   "source": [
    "### 5.23 Sumatori parcial maxim"
   ]
  },
  {
   "cell_type": "markdown",
   "metadata": {},
   "source": [
    "##### Kadane"
   ]
  },
  {
   "cell_type": "code",
   "execution_count": 25,
   "metadata": {},
   "outputs": [],
   "source": [
    "def sumatori_parcial_kadane(llista):\n",
    "    \n",
    "    max_sum = 0\n",
    "    acum = 0\n",
    "    \n",
    "    for i in llista:\n",
    "        acum += i\n",
    "        \n",
    "        if acum < 0:\n",
    "            acum = 0 #Si el número és negatiu s'acumula i es descarta\n",
    "            \n",
    "        if max_sum < acum: #Si és positiu es posa a la suma que després retornarà el sumatori més gran\n",
    "            max_sum = acum\n",
    "\n",
    "    return max_sum"
   ]
  },
  {
   "cell_type": "markdown",
   "metadata": {},
   "source": [
    "##### Dividir i vencer"
   ]
  },
  {
   "cell_type": "code",
   "execution_count": 34,
   "metadata": {},
   "outputs": [
    {
     "data": {
      "text/plain": [
       "17"
      ]
     },
     "execution_count": 34,
     "metadata": {},
     "output_type": "execute_result"
    }
   ],
   "source": [
    "def sumatori_parcial_divider_vencer(llista):\n",
    "    \n",
    "    if len(llista) == 1:\n",
    "        return llista[0]\n",
    "    else:\n",
    "        mig = len(llista) // 2\n",
    "        \n",
    "        sumaDreta = 0\n",
    "        acum = 0\n",
    "        for i in range(mig, len(llista)):\n",
    "            acum += llista[i]\n",
    "            if acum > sumaDreta:\n",
    "                sumaDreta = acum\n",
    "                \n",
    "        sumaEsq = 0\n",
    "        acum = 0\n",
    "        for i in range(mig-1,-1,-1):\n",
    "            acum += llista[i]\n",
    "            if acum > sumaEsq:\n",
    "                sumaEsq= acum\n",
    "                \n",
    "        maximMig = sumaEsq + sumaDreta\n",
    "        maxEsq = sumatori_parcial_divider_vencer(llista[:mig])\n",
    "        maxDreta = sumatori_parcial_divider_vencer(llista[mig:])\n",
    "        max_sum = max(maxEsq, maxDreta,maximMig)\n",
    "        \n",
    "        return max_sum\n",
    "\n",
    "sumatori_parcial_divider_vencer([-3, 1, -5, 2, 7, 8])"
   ]
  },
  {
   "cell_type": "code",
   "execution_count": 35,
   "metadata": {},
   "outputs": [],
   "source": [
    "assert sumatori_parcial_divider_vencer([-3, 1, -5, 2, 7, 8]) == 17\n",
    "assert sumatori_parcial_kadane([1, 2, -5, 3, 6, -2, 4]) == 11"
   ]
  },
  {
   "cell_type": "code",
   "execution_count": null,
   "metadata": {},
   "outputs": [],
   "source": []
  },
  {
   "cell_type": "code",
   "execution_count": null,
   "metadata": {},
   "outputs": [],
   "source": []
  }
 ],
 "metadata": {
  "kernelspec": {
   "display_name": "Python 3",
   "language": "python",
   "name": "python3"
  },
  "language_info": {
   "codemirror_mode": {
    "name": "ipython",
    "version": 3
   },
   "file_extension": ".py",
   "mimetype": "text/x-python",
   "name": "python",
   "nbconvert_exporter": "python",
   "pygments_lexer": "ipython3",
   "version": "3.6.5"
  }
 },
 "nbformat": 4,
 "nbformat_minor": 2
}
